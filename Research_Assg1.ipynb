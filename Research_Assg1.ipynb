{
  "nbformat": 4,
  "nbformat_minor": 0,
  "metadata": {
    "colab": {
      "name": "Research_Assg1.ipynb",
      "provenance": [],
      "collapsed_sections": [],
      "authorship_tag": "ABX9TyMrYP05sardUxdw49NqNZsF",
      "include_colab_link": true
    },
    "kernelspec": {
      "name": "python3",
      "display_name": "Python 3"
    },
    "language_info": {
      "name": "python"
    }
  },
  "cells": [
    {
      "cell_type": "markdown",
      "metadata": {
        "id": "view-in-github",
        "colab_type": "text"
      },
      "source": [
        "<a href=\"https://colab.research.google.com/github/DIVYANSHU-CHAUDHARI/Research-Assignments/blob/main/Research_Assg1.ipynb\" target=\"_parent\"><img src=\"https://colab.research.google.com/assets/colab-badge.svg\" alt=\"Open In Colab\"/></a>"
      ]
    },
    {
      "cell_type": "code",
      "metadata": {
        "id": "X87H5ec7TlmW"
      },
      "source": [
        "import random\n",
        "import math\n",
        "\n",
        "SN = {}\n",
        "CH = {}\n",
        "\n",
        "#Initializing all nodes\n",
        "\n",
        "for i in range(100):\n",
        "  SN[i] = {\n",
        "      'x':random.randint(1,100),\n",
        "      'y':random.randint(1,100),\n",
        "      'clusterNo' : 0,\n",
        "      'CHid' : 0,\n",
        "      'CHdist':0\n",
        "      }\n",
        "#Initializing head Nodes\n",
        "\n",
        "for i in range(16):\n",
        "  CH[i] = {\n",
        "      'NodeId':0,\n",
        "      'clusterNo':0,\n",
        "      'DistSinkNode':0\n",
        "  }"
      ],
      "execution_count": 139,
      "outputs": []
    },
    {
      "cell_type": "code",
      "metadata": {
        "id": "iK_gPuPXYd0w"
      },
      "source": [
        "#Assigning cluster nos to all the nodes based on x and y coordinates\n",
        "for x in range(0,76,25):\n",
        "  for y in range(0,76,25):\n",
        "    for i in range(100):\n",
        "      if SN[i]['x']>x and SN[i]['x']<=x+25 and SN[i]['y']>y and SN[i]['y']<=y+25:\n",
        "        if y == 0:SN[i]['clusterNo'] = 1+x//25\n",
        "        elif y == 25:SN[i]['clusterNo'] = 5+x//25\n",
        "        elif y==50:SN[i]['clusterNo'] = 9+x//25\n",
        "        elif y == 75:SN[i]['clusterNo'] = 13+x//25\n",
        "        "
      ],
      "execution_count": 140,
      "outputs": []
    },
    {
      "cell_type": "code",
      "metadata": {
        "id": "_IKYyrZRwWpR"
      },
      "source": [
        "#Forming a clusters list of list with each list representing a cluster.\n",
        "#Each cluster list contains nodeid no. of its nodes\n",
        "clusterList = []\n",
        "tempList=[]\n",
        "for n in range(1,17):\n",
        "  tempList=[]\n",
        "  for i in range(0,100):\n",
        "    if SN[i]['clusterNo'] == n:\n",
        "      tempList.append(i)\n",
        "  clusterList.append(tempList)\n"
      ],
      "execution_count": 141,
      "outputs": []
    },
    {
      "cell_type": "code",
      "metadata": {
        "id": "RvEnmdTC1mj-"
      },
      "source": [
        "#Assigning cluster no. and Nodeid to each head node randomly from each cluster of the cluster List.\n",
        "for i in range(len(clusterList)):\n",
        "  CH[i]['clusterNo'] = i+1\n",
        "  CH[i]['NodeId'] = 'SN[' + str(random.choice(clusterList[i])).zfill(2) + ']'"
      ],
      "execution_count": 142,
      "outputs": []
    },
    {
      "cell_type": "code",
      "metadata": {
        "id": "FmzZhh_m6uSy"
      },
      "source": [
        "#Assigning CHId and calculating CHDist for every sensor node.\n",
        "for sn in range(100):\n",
        "  for hn in range(16):\n",
        "    if SN[sn]['clusterNo'] == CH[hn]['clusterNo']:\n",
        "      SN[sn]['CHid'] = 'CH(' + str(hn) + ')' \n",
        "      xs,xh= SN[sn]['x'],SN[int(CH[hn]['NodeId'][-3:-1])]['x']\n",
        "      ys,yh=SN[sn]['y'],SN[int(CH[hn]['NodeId'][-3:-1])]['y']\n",
        "      SN[sn]['CHdist'] = math.sqrt((xh - xs)**2 + (yh - ys)**2)"
      ],
      "execution_count": 143,
      "outputs": []
    },
    {
      "cell_type": "code",
      "metadata": {
        "id": "ZTTYwnzn5cqk",
        "colab": {
          "base_uri": "https://localhost:8080/"
        },
        "outputId": "04810f2c-cbcb-499e-c410-c17c60fbdb4e"
      },
      "source": [
        "#Printing all the sensor nodes\n",
        "for allnodes in SN.values():\n",
        "  print(allnodes)"
      ],
      "execution_count": 144,
      "outputs": [
        {
          "output_type": "stream",
          "text": [
            "{'x': 49, 'y': 84, 'clusterNo': 14, 'CHid': 'CH(13)', 'CHdist': 13.601470508735444}\n",
            "{'x': 12, 'y': 77, 'clusterNo': 13, 'CHid': 'CH(12)', 'CHdist': 12.041594578792296}\n",
            "{'x': 38, 'y': 92, 'clusterNo': 14, 'CHid': 'CH(13)', 'CHdist': 0.0}\n",
            "{'x': 7, 'y': 51, 'clusterNo': 9, 'CHid': 'CH(8)', 'CHdist': 17.46424919657298}\n",
            "{'x': 48, 'y': 94, 'clusterNo': 14, 'CHid': 'CH(13)', 'CHdist': 10.198039027185569}\n",
            "{'x': 76, 'y': 73, 'clusterNo': 12, 'CHid': 'CH(11)', 'CHdist': 18.973665961010276}\n",
            "{'x': 10, 'y': 65, 'clusterNo': 9, 'CHid': 'CH(8)', 'CHdist': 4.47213595499958}\n",
            "{'x': 34, 'y': 43, 'clusterNo': 6, 'CHid': 'CH(5)', 'CHdist': 0.0}\n",
            "{'x': 82, 'y': 31, 'clusterNo': 8, 'CHid': 'CH(7)', 'CHdist': 6.324555320336759}\n",
            "{'x': 15, 'y': 90, 'clusterNo': 13, 'CHid': 'CH(12)', 'CHdist': 6.4031242374328485}\n",
            "{'x': 6, 'y': 23, 'clusterNo': 1, 'CHid': 'CH(0)', 'CHdist': 17.0}\n",
            "{'x': 84, 'y': 37, 'clusterNo': 8, 'CHid': 'CH(7)', 'CHdist': 0.0}\n",
            "{'x': 56, 'y': 4, 'clusterNo': 3, 'CHid': 'CH(2)', 'CHdist': 0.0}\n",
            "{'x': 54, 'y': 59, 'clusterNo': 11, 'CHid': 'CH(10)', 'CHdist': 10.44030650891055}\n",
            "{'x': 76, 'y': 97, 'clusterNo': 16, 'CHid': 'CH(15)', 'CHdist': 12.727922061357855}\n",
            "{'x': 85, 'y': 88, 'clusterNo': 16, 'CHid': 'CH(15)', 'CHdist': 0.0}\n",
            "{'x': 32, 'y': 19, 'clusterNo': 2, 'CHid': 'CH(1)', 'CHdist': 3.1622776601683795}\n",
            "{'x': 32, 'y': 15, 'clusterNo': 2, 'CHid': 'CH(1)', 'CHdist': 4.242640687119285}\n",
            "{'x': 45, 'y': 51, 'clusterNo': 10, 'CHid': 'CH(9)', 'CHdist': 11.661903789690601}\n",
            "{'x': 88, 'y': 18, 'clusterNo': 4, 'CHid': 'CH(3)', 'CHdist': 2.0}\n",
            "{'x': 81, 'y': 39, 'clusterNo': 8, 'CHid': 'CH(7)', 'CHdist': 3.605551275463989}\n",
            "{'x': 84, 'y': 44, 'clusterNo': 8, 'CHid': 'CH(7)', 'CHdist': 7.0}\n",
            "{'x': 90, 'y': 37, 'clusterNo': 8, 'CHid': 'CH(7)', 'CHdist': 6.0}\n",
            "{'x': 54, 'y': 11, 'clusterNo': 3, 'CHid': 'CH(2)', 'CHdist': 7.280109889280518}\n",
            "{'x': 10, 'y': 26, 'clusterNo': 5, 'CHid': 'CH(4)', 'CHdist': 5.0}\n",
            "{'x': 8, 'y': 46, 'clusterNo': 5, 'CHid': 'CH(4)', 'CHdist': 16.76305461424021}\n",
            "{'x': 62, 'y': 35, 'clusterNo': 7, 'CHid': 'CH(6)', 'CHdist': 8.246211251235321}\n",
            "{'x': 15, 'y': 81, 'clusterNo': 13, 'CHid': 'CH(12)', 'CHdist': 7.0710678118654755}\n",
            "{'x': 61, 'y': 66, 'clusterNo': 11, 'CHid': 'CH(10)', 'CHdist': 10.44030650891055}\n",
            "{'x': 71, 'y': 84, 'clusterNo': 15, 'CHid': 'CH(14)', 'CHdist': 23.021728866442675}\n",
            "{'x': 50, 'y': 26, 'clusterNo': 6, 'CHid': 'CH(5)', 'CHdist': 23.345235059857504}\n",
            "{'x': 39, 'y': 42, 'clusterNo': 6, 'CHid': 'CH(5)', 'CHdist': 5.0990195135927845}\n",
            "{'x': 84, 'y': 60, 'clusterNo': 12, 'CHid': 'CH(11)', 'CHdist': 5.385164807134504}\n",
            "{'x': 28, 'y': 78, 'clusterNo': 14, 'CHid': 'CH(13)', 'CHdist': 17.204650534085253}\n",
            "{'x': 35, 'y': 18, 'clusterNo': 2, 'CHid': 'CH(1)', 'CHdist': 0.0}\n",
            "{'x': 13, 'y': 14, 'clusterNo': 1, 'CHid': 'CH(0)', 'CHdist': 6.082762530298219}\n",
            "{'x': 84, 'y': 10, 'clusterNo': 4, 'CHid': 'CH(3)', 'CHdist': 7.211102550927978}\n",
            "{'x': 57, 'y': 25, 'clusterNo': 3, 'CHid': 'CH(2)', 'CHdist': 21.02379604162864}\n",
            "{'x': 57, 'y': 32, 'clusterNo': 7, 'CHid': 'CH(6)', 'CHdist': 5.830951894845301}\n",
            "{'x': 11, 'y': 55, 'clusterNo': 9, 'CHid': 'CH(8)', 'CHdist': 12.36931687685298}\n",
            "{'x': 14, 'y': 8, 'clusterNo': 1, 'CHid': 'CH(0)', 'CHdist': 0.0}\n",
            "{'x': 30, 'y': 2, 'clusterNo': 2, 'CHid': 'CH(1)', 'CHdist': 16.76305461424021}\n",
            "{'x': 60, 'y': 62, 'clusterNo': 11, 'CHid': 'CH(10)', 'CHdist': 7.211102550927978}\n",
            "{'x': 13, 'y': 30, 'clusterNo': 5, 'CHid': 'CH(4)', 'CHdist': 0.0}\n",
            "{'x': 64, 'y': 73, 'clusterNo': 11, 'CHid': 'CH(10)', 'CHdist': 17.0}\n",
            "{'x': 56, 'y': 40, 'clusterNo': 7, 'CHid': 'CH(6)', 'CHdist': 3.605551275463989}\n",
            "{'x': 11, 'y': 54, 'clusterNo': 9, 'CHid': 'CH(8)', 'CHdist': 13.341664064126334}\n",
            "{'x': 14, 'y': 67, 'clusterNo': 9, 'CHid': 'CH(8)', 'CHdist': 0.0}\n",
            "{'x': 20, 'y': 86, 'clusterNo': 13, 'CHid': 'CH(12)', 'CHdist': 0.0}\n",
            "{'x': 47, 'y': 19, 'clusterNo': 2, 'CHid': 'CH(1)', 'CHdist': 12.041594578792296}\n",
            "{'x': 14, 'y': 43, 'clusterNo': 5, 'CHid': 'CH(4)', 'CHdist': 13.038404810405298}\n",
            "{'x': 39, 'y': 61, 'clusterNo': 10, 'CHid': 'CH(9)', 'CHdist': 0.0}\n",
            "{'x': 19, 'y': 56, 'clusterNo': 9, 'CHid': 'CH(8)', 'CHdist': 12.083045973594572}\n",
            "{'x': 67, 'y': 48, 'clusterNo': 7, 'CHid': 'CH(6)', 'CHdist': 17.029386365926403}\n",
            "{'x': 81, 'y': 99, 'clusterNo': 16, 'CHid': 'CH(15)', 'CHdist': 11.704699910719626}\n",
            "{'x': 34, 'y': 59, 'clusterNo': 10, 'CHid': 'CH(9)', 'CHdist': 5.385164807134504}\n",
            "{'x': 57, 'y': 22, 'clusterNo': 3, 'CHid': 'CH(2)', 'CHdist': 18.027756377319946}\n",
            "{'x': 9, 'y': 97, 'clusterNo': 13, 'CHid': 'CH(12)', 'CHdist': 15.556349186104045}\n",
            "{'x': 50, 'y': 42, 'clusterNo': 6, 'CHid': 'CH(5)', 'CHdist': 16.0312195418814}\n",
            "{'x': 28, 'y': 46, 'clusterNo': 6, 'CHid': 'CH(5)', 'CHdist': 6.708203932499369}\n",
            "{'x': 27, 'y': 3, 'clusterNo': 2, 'CHid': 'CH(1)', 'CHdist': 17.0}\n",
            "{'x': 25, 'y': 20, 'clusterNo': 1, 'CHid': 'CH(0)', 'CHdist': 16.278820596099706}\n",
            "{'x': 22, 'y': 3, 'clusterNo': 1, 'CHid': 'CH(0)', 'CHdist': 9.433981132056603}\n",
            "{'x': 70, 'y': 67, 'clusterNo': 11, 'CHid': 'CH(10)', 'CHdist': 12.529964086141668}\n",
            "{'x': 54, 'y': 37, 'clusterNo': 7, 'CHid': 'CH(6)', 'CHdist': 0.0}\n",
            "{'x': 58, 'y': 12, 'clusterNo': 3, 'CHid': 'CH(2)', 'CHdist': 8.246211251235321}\n",
            "{'x': 61, 'y': 40, 'clusterNo': 7, 'CHid': 'CH(6)', 'CHdist': 7.615773105863909}\n",
            "{'x': 52, 'y': 97, 'clusterNo': 15, 'CHid': 'CH(14)', 'CHdist': 0.0}\n",
            "{'x': 62, 'y': 41, 'clusterNo': 7, 'CHid': 'CH(6)', 'CHdist': 8.94427190999916}\n",
            "{'x': 36, 'y': 24, 'clusterNo': 2, 'CHid': 'CH(1)', 'CHdist': 6.082762530298219}\n",
            "{'x': 4, 'y': 67, 'clusterNo': 9, 'CHid': 'CH(8)', 'CHdist': 10.0}\n",
            "{'x': 60, 'y': 82, 'clusterNo': 15, 'CHid': 'CH(14)', 'CHdist': 17.0}\n",
            "{'x': 96, 'y': 81, 'clusterNo': 16, 'CHid': 'CH(15)', 'CHdist': 13.038404810405298}\n",
            "{'x': 70, 'y': 93, 'clusterNo': 15, 'CHid': 'CH(14)', 'CHdist': 18.439088914585774}\n",
            "{'x': 70, 'y': 67, 'clusterNo': 11, 'CHid': 'CH(10)', 'CHdist': 12.529964086141668}\n",
            "{'x': 84, 'y': 87, 'clusterNo': 16, 'CHid': 'CH(15)', 'CHdist': 1.4142135623730951}\n",
            "{'x': 7, 'y': 24, 'clusterNo': 1, 'CHid': 'CH(0)', 'CHdist': 17.46424919657298}\n",
            "{'x': 4, 'y': 31, 'clusterNo': 5, 'CHid': 'CH(4)', 'CHdist': 9.055385138137417}\n",
            "{'x': 73, 'y': 14, 'clusterNo': 3, 'CHid': 'CH(2)', 'CHdist': 19.72308292331602}\n",
            "{'x': 61, 'y': 73, 'clusterNo': 11, 'CHid': 'CH(10)', 'CHdist': 17.26267650163207}\n",
            "{'x': 10, 'y': 87, 'clusterNo': 13, 'CHid': 'CH(12)', 'CHdist': 10.04987562112089}\n",
            "{'x': 28, 'y': 69, 'clusterNo': 10, 'CHid': 'CH(9)', 'CHdist': 13.601470508735444}\n",
            "{'x': 96, 'y': 45, 'clusterNo': 8, 'CHid': 'CH(7)', 'CHdist': 14.422205101855956}\n",
            "{'x': 81, 'y': 92, 'clusterNo': 16, 'CHid': 'CH(15)', 'CHdist': 5.656854249492381}\n",
            "{'x': 88, 'y': 16, 'clusterNo': 4, 'CHid': 'CH(3)', 'CHdist': 0.0}\n",
            "{'x': 75, 'y': 49, 'clusterNo': 7, 'CHid': 'CH(6)', 'CHdist': 24.186773244895647}\n",
            "{'x': 16, 'y': 93, 'clusterNo': 13, 'CHid': 'CH(12)', 'CHdist': 8.06225774829855}\n",
            "{'x': 98, 'y': 10, 'clusterNo': 4, 'CHid': 'CH(3)', 'CHdist': 11.661903789690601}\n",
            "{'x': 81, 'y': 25, 'clusterNo': 4, 'CHid': 'CH(3)', 'CHdist': 11.40175425099138}\n",
            "{'x': 52, 'y': 3, 'clusterNo': 3, 'CHid': 'CH(2)', 'CHdist': 4.123105625617661}\n",
            "{'x': 98, 'y': 85, 'clusterNo': 16, 'CHid': 'CH(15)', 'CHdist': 13.341664064126334}\n",
            "{'x': 75, 'y': 4, 'clusterNo': 3, 'CHid': 'CH(2)', 'CHdist': 19.0}\n",
            "{'x': 67, 'y': 76, 'clusterNo': 15, 'CHid': 'CH(14)', 'CHdist': 25.80697580112788}\n",
            "{'x': 66, 'y': 34, 'clusterNo': 7, 'CHid': 'CH(6)', 'CHdist': 12.36931687685298}\n",
            "{'x': 99, 'y': 26, 'clusterNo': 8, 'CHid': 'CH(7)', 'CHdist': 18.601075237738275}\n",
            "{'x': 36, 'y': 67, 'clusterNo': 10, 'CHid': 'CH(9)', 'CHdist': 6.708203932499369}\n",
            "{'x': 64, 'y': 56, 'clusterNo': 11, 'CHid': 'CH(10)', 'CHdist': 0.0}\n",
            "{'x': 62, 'y': 13, 'clusterNo': 3, 'CHid': 'CH(2)', 'CHdist': 10.816653826391969}\n",
            "{'x': 12, 'y': 4, 'clusterNo': 1, 'CHid': 'CH(0)', 'CHdist': 4.47213595499958}\n",
            "{'x': 82, 'y': 55, 'clusterNo': 12, 'CHid': 'CH(11)', 'CHdist': 0.0}\n"
          ],
          "name": "stdout"
        }
      ]
    },
    {
      "cell_type": "code",
      "metadata": {
        "id": "2n6xgOc5EVde",
        "colab": {
          "base_uri": "https://localhost:8080/"
        },
        "outputId": "a4235446-d452-4e9d-9aae-f33c88187c3e"
      },
      "source": [
        "#Printing all the cluster head nodes\n",
        "for headNodes in CH.values():\n",
        "  print(headNodes)"
      ],
      "execution_count": 145,
      "outputs": [
        {
          "output_type": "stream",
          "text": [
            "{'NodeId': 'SN[40]', 'clusterNo': 1, 'DistSinkNode': 0}\n",
            "{'NodeId': 'SN[34]', 'clusterNo': 2, 'DistSinkNode': 0}\n",
            "{'NodeId': 'SN[12]', 'clusterNo': 3, 'DistSinkNode': 0}\n",
            "{'NodeId': 'SN[84]', 'clusterNo': 4, 'DistSinkNode': 0}\n",
            "{'NodeId': 'SN[43]', 'clusterNo': 5, 'DistSinkNode': 0}\n",
            "{'NodeId': 'SN[07]', 'clusterNo': 6, 'DistSinkNode': 0}\n",
            "{'NodeId': 'SN[64]', 'clusterNo': 7, 'DistSinkNode': 0}\n",
            "{'NodeId': 'SN[11]', 'clusterNo': 8, 'DistSinkNode': 0}\n",
            "{'NodeId': 'SN[47]', 'clusterNo': 9, 'DistSinkNode': 0}\n",
            "{'NodeId': 'SN[51]', 'clusterNo': 10, 'DistSinkNode': 0}\n",
            "{'NodeId': 'SN[96]', 'clusterNo': 11, 'DistSinkNode': 0}\n",
            "{'NodeId': 'SN[99]', 'clusterNo': 12, 'DistSinkNode': 0}\n",
            "{'NodeId': 'SN[48]', 'clusterNo': 13, 'DistSinkNode': 0}\n",
            "{'NodeId': 'SN[02]', 'clusterNo': 14, 'DistSinkNode': 0}\n",
            "{'NodeId': 'SN[67]', 'clusterNo': 15, 'DistSinkNode': 0}\n",
            "{'NodeId': 'SN[15]', 'clusterNo': 16, 'DistSinkNode': 0}\n"
          ],
          "name": "stdout"
        }
      ]
    }
  ]
}