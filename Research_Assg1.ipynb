{
  "nbformat": 4,
  "nbformat_minor": 0,
  "metadata": {
    "colab": {
      "name": "Research_Assg1.ipynb",
      "provenance": [],
      "collapsed_sections": [],
      "authorship_tag": "ABX9TyNuG4j9gujcL1bXnrYDYXOS",
      "include_colab_link": true
    },
    "kernelspec": {
      "name": "python3",
      "display_name": "Python 3"
    },
    "language_info": {
      "name": "python"
    }
  },
  "cells": [
    {
      "cell_type": "markdown",
      "metadata": {
        "id": "view-in-github",
        "colab_type": "text"
      },
      "source": [
        "<a href=\"https://colab.research.google.com/github/DIVYANSHU-CHAUDHARI/Research-Assignments/blob/main/Research_Assg1.ipynb\" target=\"_parent\"><img src=\"https://colab.research.google.com/assets/colab-badge.svg\" alt=\"Open In Colab\"/></a>"
      ]
    },
    {
      "cell_type": "code",
      "metadata": {
        "id": "X87H5ec7TlmW"
      },
      "source": [
        "import random\n",
        "import math\n",
        "\n",
        "SN = {}\n",
        "CH = {}\n",
        "\n",
        "#Initializing all nodes\n",
        "\n",
        "for i in range(100):\n",
        "  SN[i] = {\n",
        "      'Nodeid':0,\n",
        "      'x':random.randint(1,100),\n",
        "      'y':random.randint(1,100),\n",
        "      'clusterNo' : 0,\n",
        "      'CHid' : 0,\n",
        "      'CHdist':0\n",
        "      }\n",
        "#Initializing head Nodes\n",
        "\n",
        "for i in range(16):\n",
        "  CH[i] = {\n",
        "      'NodeId':0,\n",
        "      'clusterNo':0,\n",
        "      'DistSinkNode':0\n",
        "  }"
      ],
      "execution_count": null,
      "outputs": []
    },
    {
      "cell_type": "code",
      "metadata": {
        "id": "GsEYQHTNHJOe"
      },
      "source": [
        "for i in range(100):\n",
        "  SN[i]['Nodeid'] = 'SN[' + str(i+1) + ']' "
      ],
      "execution_count": null,
      "outputs": []
    },
    {
      "cell_type": "code",
      "metadata": {
        "id": "iK_gPuPXYd0w"
      },
      "source": [
        "#Assigning cluster nos to all the nodes based on x and y coordinates\n",
        "for x in range(0,76,25):\n",
        "  for y in range(0,76,25):\n",
        "    for i in range(100):\n",
        "      if SN[i]['x']>x and SN[i]['x']<=x+25 and SN[i]['y']>y and SN[i]['y']<=y+25:\n",
        "        if y == 0:SN[i]['clusterNo'] = 1+x//25\n",
        "        elif y == 25:SN[i]['clusterNo'] = 5+x//25\n",
        "        elif y==50:SN[i]['clusterNo'] = 9+x//25\n",
        "        elif y == 75:SN[i]['clusterNo'] = 13+x//25\n",
        "        "
      ],
      "execution_count": null,
      "outputs": []
    },
    {
      "cell_type": "code",
      "metadata": {
        "id": "_IKYyrZRwWpR"
      },
      "source": [
        "#Forming a clusters list of list with each list representing a cluster.\n",
        "#Each cluster list contains nodeid no. of its nodes\n",
        "clusterList = []\n",
        "tempList=[]\n",
        "for n in range(1,17):\n",
        "  tempList=[]\n",
        "  for i in range(0,100):\n",
        "    if SN[i]['clusterNo'] == n:\n",
        "      tempList.append(i)\n",
        "  clusterList.append(tempList)\n"
      ],
      "execution_count": null,
      "outputs": []
    },
    {
      "cell_type": "code",
      "metadata": {
        "id": "RvEnmdTC1mj-"
      },
      "source": [
        "#Assigning cluster no. and Nodeid to each head node randomly from each cluster of the cluster List.\n",
        "for i in range(len(clusterList)):\n",
        "  CH[i]['clusterNo'] = i+1\n",
        "  CH[i]['NodeId'] = 'SN[' + str(random.choice(clusterList[i])).zfill(2) + ']'"
      ],
      "execution_count": null,
      "outputs": []
    },
    {
      "cell_type": "code",
      "metadata": {
        "id": "FmzZhh_m6uSy"
      },
      "source": [
        "#Assigning CHId and calculating CHDist for every sensor node.\n",
        "for sn in range(100):\n",
        "  for hn in range(16):\n",
        "    if SN[sn]['clusterNo'] == CH[hn]['clusterNo']:\n",
        "      SN[sn]['CHid'] = 'CH(' + str(hn) + ')' \n",
        "      xs,xh= SN[sn]['x'],SN[int(CH[hn]['NodeId'][-3:-1])]['x']\n",
        "      ys,yh=SN[sn]['y'],SN[int(CH[hn]['NodeId'][-3:-1])]['y']\n",
        "      SN[sn]['CHdist'] = math.sqrt((xh - xs)**2 + (yh - ys)**2)"
      ],
      "execution_count": null,
      "outputs": []
    },
    {
      "cell_type": "code",
      "metadata": {
        "id": "d4l8vUDsKv3c"
      },
      "source": [
        "#Calculating distance of head nodes from sink node(x=50,y=200)\n",
        "for i in range(16):\n",
        "  xh = SN[int(CH[i]['NodeId'][-3:-1])]['x']\n",
        "  yh = SN[int(CH[i]['NodeId'][-3:-1])]['y']\n",
        "  CH[i]['DistSinkNode'] = math.sqrt((xh - 50)**2 + (yh - 200)**2)"
      ],
      "execution_count": null,
      "outputs": []
    },
    {
      "cell_type": "code",
      "metadata": {
        "id": "ZTTYwnzn5cqk",
        "colab": {
          "base_uri": "https://localhost:8080/"
        },
        "outputId": "3aff1dfe-95a2-4f17-b8a9-6add14a80c84"
      },
      "source": [
        "#Printing all the sensor nodes\n",
        "for key,allnodes in SN.items():\n",
        "  print(key,allnodes)"
      ],
      "execution_count": null,
      "outputs": [
        {
          "output_type": "stream",
          "text": [
            "0 {'Nodeid': 'SN[1]', 'x': 94, 'y': 35, 'clusterNo': 8, 'CHid': 'CH(7)', 'CHdist': 10.295630140987}\n",
            "1 {'Nodeid': 'SN[2]', 'x': 29, 'y': 54, 'clusterNo': 10, 'CHid': 'CH(9)', 'CHdist': 25.495097567963924}\n",
            "2 {'Nodeid': 'SN[3]', 'x': 28, 'y': 49, 'clusterNo': 6, 'CHid': 'CH(5)', 'CHdist': 7.615773105863909}\n",
            "3 {'Nodeid': 'SN[4]', 'x': 16, 'y': 69, 'clusterNo': 9, 'CHid': 'CH(8)', 'CHdist': 0.0}\n",
            "4 {'Nodeid': 'SN[5]', 'x': 80, 'y': 84, 'clusterNo': 16, 'CHid': 'CH(15)', 'CHdist': 13.038404810405298}\n",
            "5 {'Nodeid': 'SN[6]', 'x': 33, 'y': 32, 'clusterNo': 6, 'CHid': 'CH(5)', 'CHdist': 14.142135623730951}\n",
            "6 {'Nodeid': 'SN[7]', 'x': 72, 'y': 23, 'clusterNo': 3, 'CHid': 'CH(2)', 'CHdist': 14.317821063276353}\n",
            "7 {'Nodeid': 'SN[8]', 'x': 94, 'y': 4, 'clusterNo': 4, 'CHid': 'CH(3)', 'CHdist': 0.0}\n",
            "8 {'Nodeid': 'SN[9]', 'x': 35, 'y': 87, 'clusterNo': 14, 'CHid': 'CH(13)', 'CHdist': 12.727922061357855}\n",
            "9 {'Nodeid': 'SN[10]', 'x': 11, 'y': 44, 'clusterNo': 5, 'CHid': 'CH(4)', 'CHdist': 0.0}\n",
            "10 {'Nodeid': 'SN[11]', 'x': 2, 'y': 68, 'clusterNo': 9, 'CHid': 'CH(8)', 'CHdist': 14.035668847618199}\n",
            "11 {'Nodeid': 'SN[12]', 'x': 10, 'y': 26, 'clusterNo': 5, 'CHid': 'CH(4)', 'CHdist': 18.027756377319946}\n",
            "12 {'Nodeid': 'SN[13]', 'x': 48, 'y': 71, 'clusterNo': 10, 'CHid': 'CH(9)', 'CHdist': 0.0}\n",
            "13 {'Nodeid': 'SN[14]', 'x': 81, 'y': 19, 'clusterNo': 4, 'CHid': 'CH(3)', 'CHdist': 19.849433241279208}\n",
            "14 {'Nodeid': 'SN[15]', 'x': 6, 'y': 17, 'clusterNo': 1, 'CHid': 'CH(0)', 'CHdist': 7.0710678118654755}\n",
            "15 {'Nodeid': 'SN[16]', 'x': 72, 'y': 42, 'clusterNo': 7, 'CHid': 'CH(6)', 'CHdist': 1.4142135623730951}\n",
            "16 {'Nodeid': 'SN[17]', 'x': 14, 'y': 49, 'clusterNo': 5, 'CHid': 'CH(4)', 'CHdist': 5.830951894845301}\n",
            "17 {'Nodeid': 'SN[18]', 'x': 67, 'y': 8, 'clusterNo': 3, 'CHid': 'CH(2)', 'CHdist': 12.041594578792296}\n",
            "18 {'Nodeid': 'SN[19]', 'x': 68, 'y': 11, 'clusterNo': 3, 'CHid': 'CH(2)', 'CHdist': 10.816653826391969}\n",
            "19 {'Nodeid': 'SN[20]', 'x': 62, 'y': 7, 'clusterNo': 3, 'CHid': 'CH(2)', 'CHdist': 10.44030650891055}\n",
            "20 {'Nodeid': 'SN[21]', 'x': 68, 'y': 20, 'clusterNo': 3, 'CHid': 'CH(2)', 'CHdist': 9.486832980505138}\n",
            "21 {'Nodeid': 'SN[22]', 'x': 59, 'y': 17, 'clusterNo': 3, 'CHid': 'CH(2)', 'CHdist': 0.0}\n",
            "22 {'Nodeid': 'SN[23]', 'x': 72, 'y': 9, 'clusterNo': 3, 'CHid': 'CH(2)', 'CHdist': 15.264337522473747}\n",
            "23 {'Nodeid': 'SN[24]', 'x': 35, 'y': 46, 'clusterNo': 6, 'CHid': 'CH(5)', 'CHdist': 0.0}\n",
            "24 {'Nodeid': 'SN[25]', 'x': 20, 'y': 3, 'clusterNo': 1, 'CHid': 'CH(0)', 'CHdist': 14.7648230602334}\n",
            "25 {'Nodeid': 'SN[26]', 'x': 8, 'y': 74, 'clusterNo': 9, 'CHid': 'CH(8)', 'CHdist': 9.433981132056603}\n",
            "26 {'Nodeid': 'SN[27]', 'x': 87, 'y': 13, 'clusterNo': 4, 'CHid': 'CH(3)', 'CHdist': 11.40175425099138}\n",
            "27 {'Nodeid': 'SN[28]', 'x': 82, 'y': 71, 'clusterNo': 12, 'CHid': 'CH(11)', 'CHdist': 22.20360331117452}\n",
            "28 {'Nodeid': 'SN[29]', 'x': 25, 'y': 8, 'clusterNo': 1, 'CHid': 'CH(0)', 'CHdist': 18.110770276274835}\n",
            "29 {'Nodeid': 'SN[30]', 'x': 91, 'y': 77, 'clusterNo': 16, 'CHid': 'CH(15)', 'CHdist': 0.0}\n",
            "30 {'Nodeid': 'SN[31]', 'x': 3, 'y': 23, 'clusterNo': 1, 'CHid': 'CH(0)', 'CHdist': 13.601470508735444}\n",
            "31 {'Nodeid': 'SN[32]', 'x': 99, 'y': 52, 'clusterNo': 12, 'CHid': 'CH(11)', 'CHdist': 4.123105625617661}\n",
            "32 {'Nodeid': 'SN[33]', 'x': 51, 'y': 82, 'clusterNo': 15, 'CHid': 'CH(14)', 'CHdist': 2.0}\n",
            "33 {'Nodeid': 'SN[34]', 'x': 72, 'y': 92, 'clusterNo': 15, 'CHid': 'CH(14)', 'CHdist': 22.47220505424423}\n",
            "34 {'Nodeid': 'SN[35]', 'x': 23, 'y': 26, 'clusterNo': 5, 'CHid': 'CH(4)', 'CHdist': 21.633307652783937}\n",
            "35 {'Nodeid': 'SN[36]', 'x': 45, 'y': 57, 'clusterNo': 10, 'CHid': 'CH(9)', 'CHdist': 14.317821063276353}\n",
            "36 {'Nodeid': 'SN[37]', 'x': 11, 'y': 38, 'clusterNo': 5, 'CHid': 'CH(4)', 'CHdist': 6.0}\n",
            "37 {'Nodeid': 'SN[38]', 'x': 19, 'y': 68, 'clusterNo': 9, 'CHid': 'CH(8)', 'CHdist': 3.1622776601683795}\n",
            "38 {'Nodeid': 'SN[39]', 'x': 7, 'y': 10, 'clusterNo': 1, 'CHid': 'CH(0)', 'CHdist': 0.0}\n",
            "39 {'Nodeid': 'SN[40]', 'x': 52, 'y': 6, 'clusterNo': 3, 'CHid': 'CH(2)', 'CHdist': 13.038404810405298}\n",
            "40 {'Nodeid': 'SN[41]', 'x': 20, 'y': 9, 'clusterNo': 1, 'CHid': 'CH(0)', 'CHdist': 13.038404810405298}\n",
            "41 {'Nodeid': 'SN[42]', 'x': 16, 'y': 95, 'clusterNo': 13, 'CHid': 'CH(12)', 'CHdist': 0.0}\n",
            "42 {'Nodeid': 'SN[43]', 'x': 8, 'y': 98, 'clusterNo': 13, 'CHid': 'CH(12)', 'CHdist': 8.54400374531753}\n",
            "43 {'Nodeid': 'SN[44]', 'x': 46, 'y': 84, 'clusterNo': 14, 'CHid': 'CH(13)', 'CHdist': 6.324555320336759}\n",
            "44 {'Nodeid': 'SN[45]', 'x': 45, 'y': 98, 'clusterNo': 14, 'CHid': 'CH(13)', 'CHdist': 20.024984394500787}\n",
            "45 {'Nodeid': 'SN[46]', 'x': 96, 'y': 1, 'clusterNo': 4, 'CHid': 'CH(3)', 'CHdist': 3.605551275463989}\n",
            "46 {'Nodeid': 'SN[47]', 'x': 5, 'y': 88, 'clusterNo': 13, 'CHid': 'CH(12)', 'CHdist': 13.038404810405298}\n",
            "47 {'Nodeid': 'SN[48]', 'x': 24, 'y': 25, 'clusterNo': 1, 'CHid': 'CH(0)', 'CHdist': 22.67156809750927}\n",
            "48 {'Nodeid': 'SN[49]', 'x': 97, 'y': 21, 'clusterNo': 4, 'CHid': 'CH(3)', 'CHdist': 17.26267650163207}\n",
            "49 {'Nodeid': 'SN[50]', 'x': 37, 'y': 70, 'clusterNo': 10, 'CHid': 'CH(9)', 'CHdist': 11.045361017187261}\n",
            "50 {'Nodeid': 'SN[51]', 'x': 61, 'y': 81, 'clusterNo': 15, 'CHid': 'CH(14)', 'CHdist': 10.44030650891055}\n",
            "51 {'Nodeid': 'SN[52]', 'x': 5, 'y': 99, 'clusterNo': 13, 'CHid': 'CH(12)', 'CHdist': 11.704699910719626}\n",
            "52 {'Nodeid': 'SN[53]', 'x': 82, 'y': 41, 'clusterNo': 8, 'CHid': 'CH(7)', 'CHdist': 17.26267650163207}\n",
            "53 {'Nodeid': 'SN[54]', 'x': 73, 'y': 8, 'clusterNo': 3, 'CHid': 'CH(2)', 'CHdist': 16.64331697709324}\n",
            "54 {'Nodeid': 'SN[55]', 'x': 71, 'y': 43, 'clusterNo': 7, 'CHid': 'CH(6)', 'CHdist': 0.0}\n",
            "55 {'Nodeid': 'SN[56]', 'x': 49, 'y': 22, 'clusterNo': 2, 'CHid': 'CH(1)', 'CHdist': 23.08679276123039}\n",
            "56 {'Nodeid': 'SN[57]', 'x': 70, 'y': 58, 'clusterNo': 11, 'CHid': 'CH(10)', 'CHdist': 0.0}\n",
            "57 {'Nodeid': 'SN[58]', 'x': 31, 'y': 93, 'clusterNo': 14, 'CHid': 'CH(13)', 'CHdist': 19.849433241279208}\n",
            "58 {'Nodeid': 'SN[59]', 'x': 71, 'y': 25, 'clusterNo': 3, 'CHid': 'CH(2)', 'CHdist': 14.422205101855956}\n",
            "59 {'Nodeid': 'SN[60]', 'x': 51, 'y': 84, 'clusterNo': 15, 'CHid': 'CH(14)', 'CHdist': 0.0}\n",
            "60 {'Nodeid': 'SN[61]', 'x': 35, 'y': 16, 'clusterNo': 2, 'CHid': 'CH(1)', 'CHdist': 9.848857801796104}\n",
            "61 {'Nodeid': 'SN[62]', 'x': 60, 'y': 76, 'clusterNo': 15, 'CHid': 'CH(14)', 'CHdist': 12.041594578792296}\n",
            "62 {'Nodeid': 'SN[63]', 'x': 95, 'y': 53, 'clusterNo': 12, 'CHid': 'CH(11)', 'CHdist': 0.0}\n",
            "63 {'Nodeid': 'SN[64]', 'x': 28, 'y': 57, 'clusterNo': 10, 'CHid': 'CH(9)', 'CHdist': 24.413111231467404}\n",
            "64 {'Nodeid': 'SN[65]', 'x': 54, 'y': 54, 'clusterNo': 11, 'CHid': 'CH(10)', 'CHdist': 16.492422502470642}\n",
            "65 {'Nodeid': 'SN[66]', 'x': 17, 'y': 49, 'clusterNo': 5, 'CHid': 'CH(4)', 'CHdist': 7.810249675906654}\n",
            "66 {'Nodeid': 'SN[67]', 'x': 63, 'y': 79, 'clusterNo': 15, 'CHid': 'CH(14)', 'CHdist': 13.0}\n",
            "67 {'Nodeid': 'SN[68]', 'x': 44, 'y': 78, 'clusterNo': 14, 'CHid': 'CH(13)', 'CHdist': 0.0}\n",
            "68 {'Nodeid': 'SN[69]', 'x': 8, 'y': 87, 'clusterNo': 13, 'CHid': 'CH(12)', 'CHdist': 11.313708498984761}\n",
            "69 {'Nodeid': 'SN[70]', 'x': 28, 'y': 9, 'clusterNo': 2, 'CHid': 'CH(1)', 'CHdist': 11.180339887498949}\n",
            "70 {'Nodeid': 'SN[71]', 'x': 86, 'y': 85, 'clusterNo': 16, 'CHid': 'CH(15)', 'CHdist': 9.433981132056603}\n",
            "71 {'Nodeid': 'SN[72]', 'x': 57, 'y': 96, 'clusterNo': 15, 'CHid': 'CH(14)', 'CHdist': 13.416407864998739}\n",
            "72 {'Nodeid': 'SN[73]', 'x': 74, 'y': 9, 'clusterNo': 3, 'CHid': 'CH(2)', 'CHdist': 17.0}\n",
            "73 {'Nodeid': 'SN[74]', 'x': 75, 'y': 54, 'clusterNo': 11, 'CHid': 'CH(10)', 'CHdist': 6.4031242374328485}\n",
            "74 {'Nodeid': 'SN[75]', 'x': 67, 'y': 67, 'clusterNo': 11, 'CHid': 'CH(10)', 'CHdist': 9.486832980505138}\n",
            "75 {'Nodeid': 'SN[76]', 'x': 16, 'y': 28, 'clusterNo': 5, 'CHid': 'CH(4)', 'CHdist': 16.76305461424021}\n",
            "76 {'Nodeid': 'SN[77]', 'x': 42, 'y': 56, 'clusterNo': 10, 'CHid': 'CH(9)', 'CHdist': 16.15549442140351}\n",
            "77 {'Nodeid': 'SN[78]', 'x': 17, 'y': 32, 'clusterNo': 5, 'CHid': 'CH(4)', 'CHdist': 13.416407864998739}\n",
            "78 {'Nodeid': 'SN[79]', 'x': 60, 'y': 11, 'clusterNo': 3, 'CHid': 'CH(2)', 'CHdist': 6.082762530298219}\n",
            "79 {'Nodeid': 'SN[80]', 'x': 4, 'y': 27, 'clusterNo': 5, 'CHid': 'CH(4)', 'CHdist': 18.384776310850235}\n",
            "80 {'Nodeid': 'SN[81]', 'x': 60, 'y': 97, 'clusterNo': 15, 'CHid': 'CH(14)', 'CHdist': 15.811388300841896}\n",
            "81 {'Nodeid': 'SN[82]', 'x': 24, 'y': 67, 'clusterNo': 9, 'CHid': 'CH(8)', 'CHdist': 8.246211251235321}\n",
            "82 {'Nodeid': 'SN[83]', 'x': 62, 'y': 86, 'clusterNo': 15, 'CHid': 'CH(14)', 'CHdist': 11.180339887498949}\n",
            "83 {'Nodeid': 'SN[84]', 'x': 44, 'y': 73, 'clusterNo': 10, 'CHid': 'CH(9)', 'CHdist': 4.47213595499958}\n",
            "84 {'Nodeid': 'SN[85]', 'x': 84, 'y': 27, 'clusterNo': 8, 'CHid': 'CH(7)', 'CHdist': 22.67156809750927}\n",
            "85 {'Nodeid': 'SN[86]', 'x': 26, 'y': 20, 'clusterNo': 2, 'CHid': 'CH(1)', 'CHdist': 0.0}\n",
            "86 {'Nodeid': 'SN[87]', 'x': 99, 'y': 44, 'clusterNo': 8, 'CHid': 'CH(7)', 'CHdist': 0.0}\n",
            "87 {'Nodeid': 'SN[88]', 'x': 3, 'y': 61, 'clusterNo': 9, 'CHid': 'CH(8)', 'CHdist': 15.264337522473747}\n",
            "88 {'Nodeid': 'SN[89]', 'x': 25, 'y': 69, 'clusterNo': 9, 'CHid': 'CH(8)', 'CHdist': 9.0}\n",
            "89 {'Nodeid': 'SN[90]', 'x': 54, 'y': 80, 'clusterNo': 15, 'CHid': 'CH(14)', 'CHdist': 5.0}\n",
            "90 {'Nodeid': 'SN[91]', 'x': 98, 'y': 12, 'clusterNo': 4, 'CHid': 'CH(3)', 'CHdist': 8.94427190999916}\n",
            "91 {'Nodeid': 'SN[92]', 'x': 34, 'y': 28, 'clusterNo': 6, 'CHid': 'CH(5)', 'CHdist': 18.027756377319946}\n",
            "92 {'Nodeid': 'SN[93]', 'x': 34, 'y': 30, 'clusterNo': 6, 'CHid': 'CH(5)', 'CHdist': 16.0312195418814}\n",
            "93 {'Nodeid': 'SN[94]', 'x': 74, 'y': 45, 'clusterNo': 7, 'CHid': 'CH(6)', 'CHdist': 3.605551275463989}\n",
            "94 {'Nodeid': 'SN[95]', 'x': 93, 'y': 69, 'clusterNo': 12, 'CHid': 'CH(11)', 'CHdist': 16.1245154965971}\n",
            "95 {'Nodeid': 'SN[96]', 'x': 72, 'y': 65, 'clusterNo': 11, 'CHid': 'CH(10)', 'CHdist': 7.280109889280518}\n",
            "96 {'Nodeid': 'SN[97]', 'x': 9, 'y': 97, 'clusterNo': 13, 'CHid': 'CH(12)', 'CHdist': 7.280109889280518}\n",
            "97 {'Nodeid': 'SN[98]', 'x': 33, 'y': 23, 'clusterNo': 2, 'CHid': 'CH(1)', 'CHdist': 7.615773105863909}\n",
            "98 {'Nodeid': 'SN[99]', 'x': 28, 'y': 58, 'clusterNo': 10, 'CHid': 'CH(9)', 'CHdist': 23.853720883753127}\n",
            "99 {'Nodeid': 'SN[100]', 'x': 16, 'y': 57, 'clusterNo': 9, 'CHid': 'CH(8)', 'CHdist': 12.0}\n"
          ],
          "name": "stdout"
        }
      ]
    },
    {
      "cell_type": "code",
      "metadata": {
        "id": "2n6xgOc5EVde",
        "colab": {
          "base_uri": "https://localhost:8080/"
        },
        "outputId": "7930edc5-66f7-4368-dc95-0033ed86bcbc"
      },
      "source": [
        "#Printing all the cluster head nodes\n",
        "for key,headNodes in CH.items():\n",
        "  print(key,headNodes)"
      ],
      "execution_count": null,
      "outputs": [
        {
          "output_type": "stream",
          "text": [
            "0 {'NodeId': 'SN[38]', 'clusterNo': 1, 'DistSinkNode': 194.80503073586164}\n",
            "1 {'NodeId': 'SN[85]', 'clusterNo': 2, 'DistSinkNode': 181.59295140505867}\n",
            "2 {'NodeId': 'SN[21]', 'clusterNo': 3, 'DistSinkNode': 183.22117781522965}\n",
            "3 {'NodeId': 'SN[07]', 'clusterNo': 4, 'DistSinkNode': 200.8780724718355}\n",
            "4 {'NodeId': 'SN[09]', 'clusterNo': 5, 'DistSinkNode': 160.80111939908875}\n",
            "5 {'NodeId': 'SN[23]', 'clusterNo': 6, 'DistSinkNode': 154.72879499304582}\n",
            "6 {'NodeId': 'SN[54]', 'clusterNo': 7, 'DistSinkNode': 158.39823231336896}\n",
            "7 {'NodeId': 'SN[86]', 'clusterNo': 8, 'DistSinkNode': 163.5145253486674}\n",
            "8 {'NodeId': 'SN[03]', 'clusterNo': 9, 'DistSinkNode': 135.34031180694095}\n",
            "9 {'NodeId': 'SN[12]', 'clusterNo': 10, 'DistSinkNode': 129.0155029444136}\n",
            "10 {'NodeId': 'SN[56]', 'clusterNo': 11, 'DistSinkNode': 143.4015341619468}\n",
            "11 {'NodeId': 'SN[62]', 'clusterNo': 12, 'DistSinkNode': 153.73353570382747}\n",
            "12 {'NodeId': 'SN[41]', 'clusterNo': 13, 'DistSinkNode': 110.3675676999362}\n",
            "13 {'NodeId': 'SN[67]', 'clusterNo': 14, 'DistSinkNode': 122.14745187681976}\n",
            "14 {'NodeId': 'SN[59]', 'clusterNo': 15, 'DistSinkNode': 116.00431026474836}\n",
            "15 {'NodeId': 'SN[29]', 'clusterNo': 16, 'DistSinkNode': 129.65338406690356}\n"
          ],
          "name": "stdout"
        }
      ]
    }
  ]
}