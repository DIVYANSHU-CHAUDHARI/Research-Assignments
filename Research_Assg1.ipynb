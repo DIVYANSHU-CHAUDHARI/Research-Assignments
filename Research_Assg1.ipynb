{
  "nbformat": 4,
  "nbformat_minor": 0,
  "metadata": {
    "colab": {
      "name": "Research_Assg1.ipynb",
      "provenance": [],
      "collapsed_sections": [],
      "authorship_tag": "ABX9TyMrYP05sardUxdw49NqNZsF",
      "include_colab_link": true
    },
    "kernelspec": {
      "name": "python3",
      "display_name": "Python 3"
    },
    "language_info": {
      "name": "python"
    }
  },
  "cells": [
    {
      "cell_type": "markdown",
      "metadata": {
        "id": "view-in-github",
        "colab_type": "text"
      },
      "source": [
        "<a href=\"https://colab.research.google.com/github/DIVYANSHU-CHAUDHARI/Research-Assignments/blob/main/Research_Assg1.ipynb\" target=\"_parent\"><img src=\"https://colab.research.google.com/assets/colab-badge.svg\" alt=\"Open In Colab\"/></a>"
      ]
    },
    {
      "cell_type": "code",
      "metadata": {
        "id": "X87H5ec7TlmW"
      },
      "source": [
        "import random\n",
        "import math\n",
        "\n",
        "SN = {}\n",
        "CH = {}\n",
        "\n",
        "#Initializing all nodes\n",
        "\n",
        "for i in range(100):\n",
        "  SN[i] = {\n",
        "      'x':random.randint(1,100),\n",
        "      'y':random.randint(1,100),\n",
        "      'clusterNo' : 0,\n",
        "      'CHid' : 0,\n",
        "      'CHdist':0\n",
        "      }\n",
        "#Initializing head Nodes\n",
        "\n",
        "for i in range(16):\n",
        "  CH[i] = {\n",
        "      'NodeId':0,\n",
        "      'clusterNo':0,\n",
        "      'DistSinkNode':0\n",
        "  }"
      ],
      "execution_count": null,
      "outputs": []
    },
    {
      "cell_type": "code",
      "metadata": {
        "id": "iK_gPuPXYd0w"
      },
      "source": [
        "#Assigning cluster nos to all the nodes based on x and y coordinates\n",
        "for x in range(0,76,25):\n",
        "  for y in range(0,76,25):\n",
        "    for i in range(100):\n",
        "      if SN[i]['x']>x and SN[i]['x']<=x+25 and SN[i]['y']>y and SN[i]['y']<=y+25:\n",
        "        if y == 0:SN[i]['clusterNo'] = 1+x//25\n",
        "        elif y == 25:SN[i]['clusterNo'] = 5+x//25\n",
        "        elif y==50:SN[i]['clusterNo'] = 9+x//25\n",
        "        elif y == 75:SN[i]['clusterNo'] = 13+x//25\n",
        "        "
      ],
      "execution_count": null,
      "outputs": []
    },
    {
      "cell_type": "code",
      "metadata": {
        "id": "_IKYyrZRwWpR"
      },
      "source": [
        "#Forming a clusters list of list with each list representing a cluster.\n",
        "#Each cluster list contains nodeid no. of its nodes\n",
        "clusterList = []\n",
        "tempList=[]\n",
        "for n in range(1,17):\n",
        "  tempList=[]\n",
        "  for i in range(0,100):\n",
        "    if SN[i]['clusterNo'] == n:\n",
        "      tempList.append(i)\n",
        "  clusterList.append(tempList)\n"
      ],
      "execution_count": null,
      "outputs": []
    },
    {
      "cell_type": "code",
      "metadata": {
        "id": "RvEnmdTC1mj-"
      },
      "source": [
        "#Assigning cluster no. and Nodeid to each head node randomly from each cluster of the cluster List.\n",
        "for i in range(len(clusterList)):\n",
        "  CH[i]['clusterNo'] = i+1\n",
        "  CH[i]['NodeId'] = 'SN[' + str(random.choice(clusterList[i])).zfill(2) + ']'"
      ],
      "execution_count": null,
      "outputs": []
    },
    {
      "cell_type": "code",
      "metadata": {
        "id": "FmzZhh_m6uSy"
      },
      "source": [
        "#Assigning CHId and calculating CHDist for every sensor node.\n",
        "for sn in range(100):\n",
        "  for hn in range(16):\n",
        "    if SN[sn]['clusterNo'] == CH[hn]['clusterNo']:\n",
        "      SN[sn]['CHid'] = 'CH(' + str(hn) + ')' \n",
        "      xs,xh= SN[sn]['x'],SN[int(CH[hn]['NodeId'][-3:-1])]['x']\n",
        "      ys,yh=SN[sn]['y'],SN[int(CH[hn]['NodeId'][-3:-1])]['y']\n",
        "      SN[sn]['CHdist'] = math.sqrt((xh - xs)**2 + (yh - ys)**2)"
      ],
      "execution_count": null,
      "outputs": []
    },
    {
      "cell_type": "code",
      "metadata": {
        "id": "ZTTYwnzn5cqk"
      },
      "source": [
        "#Printing all the sensor nodes\n",
        "for allnodes in SN.values():\n",
        "  print(allnodes)"
      ],
      "execution_count": null,
      "outputs": []
    },
    {
      "cell_type": "code",
      "metadata": {
        "id": "2n6xgOc5EVde"
      },
      "source": [
        "#Printing all the cluster head nodes\n",
        "for headNodes in CH.values():\n",
        "  print(headNodes)"
      ],
      "execution_count": null,
      "outputs": []
    }
  ]
}