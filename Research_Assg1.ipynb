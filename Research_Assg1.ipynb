{
  "nbformat": 4,
  "nbformat_minor": 0,
  "metadata": {
    "colab": {
      "name": "Research_Assg1.ipynb",
      "provenance": [],
      "collapsed_sections": [],
      "authorship_tag": "ABX9TyMQ/1ri7bZgdbHbRXt8r8im",
      "include_colab_link": true
    },
    "kernelspec": {
      "name": "python3",
      "display_name": "Python 3"
    },
    "language_info": {
      "name": "python"
    }
  },
  "cells": [
    {
      "cell_type": "markdown",
      "metadata": {
        "id": "view-in-github",
        "colab_type": "text"
      },
      "source": [
        "<a href=\"https://colab.research.google.com/github/DIVYANSHU-CHAUDHARI/Shortest-path-Cluster-head-Nodes/blob/main/Research_Assg1.ipynb\" target=\"_parent\"><img src=\"https://colab.research.google.com/assets/colab-badge.svg\" alt=\"Open In Colab\"/></a>"
      ]
    },
    {
      "cell_type": "code",
      "metadata": {
        "id": "X87H5ec7TlmW"
      },
      "source": [
        "import random\n",
        "import math\n",
        "import networkx as nx\n",
        "import matplotlib.pyplot as plt\n",
        "SN = {}\n",
        "CH = {}\n",
        "CHN = {1:(2,6,5),2:(1,5,6,7,3),3:(2,6,7,8,4),4:(3,7,8),5:(9,10,6,2,1),6:(9,10,11,5,7,1,2,3),7:(10,6,11,12,8,2,3,4),8:(12,11,7,3,4),9:(13,14,10,6,5),10:(13,14,15,9,11,5,6,7),11:(14,15,16,10,12,6,7,8),12:(8,7,11,15,16),13:(9,10,14,17),14:(13,9,10,11,15,17),15:(14,10,11,12,16,17),16:(15,11,12,17),17:(13,14,15,16)}\n",
        "#Initializing all nodes\n",
        "\n",
        "for i in range(100):\n",
        "  SN[i] = {\n",
        "      'Nodeid':0,\n",
        "      'x':random.randint(1,100),\n",
        "      'y':random.randint(1,100),\n",
        "      'clusterNo' : 0,\n",
        "      'CHid' : 0,\n",
        "      'CHdist':0\n",
        "      }\n",
        "#Initializing head Nodes\n",
        "\n",
        "for i in range(16):\n",
        "  CH[i] = {\n",
        "      'NodeId':0,\n",
        "      'clusterNo':0,\n",
        "      'DistSinkNode':0,\n",
        "      'Clusterpath':0\n",
        "  }"
      ],
      "execution_count": 93,
      "outputs": []
    },
    {
      "cell_type": "code",
      "metadata": {
        "id": "GsEYQHTNHJOe"
      },
      "source": [
        "#Initializing Nodeid\n",
        "for i in range(100):\n",
        "  SN[i]['Nodeid'] = 'SN[' + str(i+1) + ']' "
      ],
      "execution_count": 94,
      "outputs": []
    },
    {
      "cell_type": "code",
      "metadata": {
        "id": "iK_gPuPXYd0w"
      },
      "source": [
        "#Assigning cluster nos to all the nodes based on x and y coordinates\n",
        "for x in range(0,76,25):\n",
        "  for y in range(0,76,25):\n",
        "    for i in range(100):\n",
        "      if SN[i]['x']>x and SN[i]['x']<=x+25 and SN[i]['y']>y and SN[i]['y']<=y+25:\n",
        "        if y == 0:SN[i]['clusterNo'] = 1+x//25\n",
        "        elif y == 25:SN[i]['clusterNo'] = 5+x//25\n",
        "        elif y==50:SN[i]['clusterNo'] = 9+x//25\n",
        "        elif y == 75:SN[i]['clusterNo'] = 13+x//25\n",
        "        "
      ],
      "execution_count": 95,
      "outputs": []
    },
    {
      "cell_type": "code",
      "metadata": {
        "id": "_IKYyrZRwWpR"
      },
      "source": [
        "#Forming a clusters list of list with each list representing a cluster.\n",
        "#Each cluster list contains nodeid no. of its nodes\n",
        "clusterList = []\n",
        "tempList=[]\n",
        "for n in range(1,17):\n",
        "  tempList=[]\n",
        "  for i in range(0,100):\n",
        "    if SN[i]['clusterNo'] == n:\n",
        "      tempList.append(i)\n",
        "  clusterList.append(tempList)\n"
      ],
      "execution_count": 96,
      "outputs": []
    },
    {
      "cell_type": "code",
      "metadata": {
        "id": "RvEnmdTC1mj-"
      },
      "source": [
        "#Assigning cluster no. and Nodeid to each head node randomly from each cluster of the cluster List.\n",
        "for i in range(len(clusterList)):\n",
        "  CH[i]['clusterNo'] = i+1\n",
        "  CH[i]['NodeId'] = 'SN[' + str(random.choice(clusterList[i])).zfill(2) + ']'"
      ],
      "execution_count": 97,
      "outputs": []
    },
    {
      "cell_type": "code",
      "metadata": {
        "colab": {
          "base_uri": "https://localhost:8080/"
        },
        "id": "687NmR93GQJe",
        "outputId": "733fb228-af69-4a2a-e307-81eb11a41925"
      },
      "source": [
        "print(CH)"
      ],
      "execution_count": 98,
      "outputs": [
        {
          "output_type": "stream",
          "text": [
            "{0: {'NodeId': 'SN[42]', 'clusterNo': 1, 'DistSinkNode': 0, 'Clusterpath': 0}, 1: {'NodeId': 'SN[13]', 'clusterNo': 2, 'DistSinkNode': 0, 'Clusterpath': 0}, 2: {'NodeId': 'SN[69]', 'clusterNo': 3, 'DistSinkNode': 0, 'Clusterpath': 0}, 3: {'NodeId': 'SN[77]', 'clusterNo': 4, 'DistSinkNode': 0, 'Clusterpath': 0}, 4: {'NodeId': 'SN[46]', 'clusterNo': 5, 'DistSinkNode': 0, 'Clusterpath': 0}, 5: {'NodeId': 'SN[03]', 'clusterNo': 6, 'DistSinkNode': 0, 'Clusterpath': 0}, 6: {'NodeId': 'SN[63]', 'clusterNo': 7, 'DistSinkNode': 0, 'Clusterpath': 0}, 7: {'NodeId': 'SN[91]', 'clusterNo': 8, 'DistSinkNode': 0, 'Clusterpath': 0}, 8: {'NodeId': 'SN[36]', 'clusterNo': 9, 'DistSinkNode': 0, 'Clusterpath': 0}, 9: {'NodeId': 'SN[55]', 'clusterNo': 10, 'DistSinkNode': 0, 'Clusterpath': 0}, 10: {'NodeId': 'SN[21]', 'clusterNo': 11, 'DistSinkNode': 0, 'Clusterpath': 0}, 11: {'NodeId': 'SN[52]', 'clusterNo': 12, 'DistSinkNode': 0, 'Clusterpath': 0}, 12: {'NodeId': 'SN[53]', 'clusterNo': 13, 'DistSinkNode': 0, 'Clusterpath': 0}, 13: {'NodeId': 'SN[58]', 'clusterNo': 14, 'DistSinkNode': 0, 'Clusterpath': 0}, 14: {'NodeId': 'SN[22]', 'clusterNo': 15, 'DistSinkNode': 0, 'Clusterpath': 0}, 15: {'NodeId': 'SN[19]', 'clusterNo': 16, 'DistSinkNode': 0, 'Clusterpath': 0}}\n"
          ],
          "name": "stdout"
        }
      ]
    },
    {
      "cell_type": "code",
      "metadata": {
        "id": "FmzZhh_m6uSy"
      },
      "source": [
        "#Assigning CHId and calculating CHDist for every sensor node.\n",
        "for sn in range(100):\n",
        "  for hn in range(16):\n",
        "    if SN[sn]['clusterNo'] == CH[hn]['clusterNo']:\n",
        "      SN[sn]['CHid'] = 'CH(' + str(hn) + ')' \n",
        "      xs,xh= SN[sn]['x'],SN[int(CH[hn]['NodeId'][-3:-1])]['x']\n",
        "      ys,yh=SN[sn]['y'],SN[int(CH[hn]['NodeId'][-3:-1])]['y']\n",
        "      SN[sn]['CHdist'] = math.sqrt((xh - xs)**2 + (yh - ys)**2)"
      ],
      "execution_count": 99,
      "outputs": []
    },
    {
      "cell_type": "code",
      "metadata": {
        "id": "S35Cy4L5nOHe"
      },
      "source": [
        "#3rd part\n",
        "#Create a list of the head nodes coordinates\n",
        "headPoints = []\n",
        "for i in range(16):\n",
        "  headPoints.append((SN[int(CH[i]['NodeId'][-3:-1])]['x'],SN[int(CH[i]['NodeId'][-3:-1])]['y']))\n",
        "\n",
        "#Adding sink node\n",
        "headPoints.append((50,200))\n",
        "\n",
        "#Create list of headedges with first two values of tuples denoting indices of headPoints and third value denoting weight between them\n",
        "headEdges = []\n",
        "for i in range(len(headPoints)):\n",
        "  for j in range(i+1,len(headPoints)):\n",
        "    if (j+1) in CHN[i+1]:\n",
        "      x1,x2 = headPoints[i][0],headPoints[j][0]\n",
        "      y1,y2 = headPoints[i][1],headPoints[j][1]\n",
        "      distXY = math.sqrt((x1 - x2)**2 + (y1 - y2)**2)\n",
        "      headEdges.append((i,j,distXY))\n",
        "\n",
        "#Function to add edge to the graph\n",
        "def add_edge_to_graph(G,e1,e2,w):\n",
        "   G.add_edge(e1,e2,weight=w) \n",
        "\n",
        "#Initializing graph\n",
        "G = nx.Graph()\n",
        "\n",
        "#Adding all the edges to the graph.\n",
        "for i in range(len(headEdges)):\n",
        "    add_edge_to_graph(G, headPoints[headEdges[i][0]], headPoints[headEdges[i][1]], headEdges[i][2])"
      ],
      "execution_count": 100,
      "outputs": []
    },
    {
      "cell_type": "code",
      "metadata": {
        "colab": {
          "base_uri": "https://localhost:8080/"
        },
        "id": "B1o5YY62N3su",
        "outputId": "e04f09fd-676a-4bcc-d2ef-32979519b9d4"
      },
      "source": [
        "print(headEdges)"
      ],
      "execution_count": 101,
      "outputs": [
        {
          "output_type": "stream",
          "text": [
            "[(0, 1, 18.439088914585774), (0, 4, 18.24828759089466), (0, 5, 30.265491900843113), (1, 2, 28.635642126552707), (1, 4, 34.48187929913333), (1, 5, 25.45584412271571), (1, 6, 52.32590180780452), (2, 3, 28.0178514522438), (2, 5, 15.620499351813308), (2, 6, 32.28002478313795), (2, 7, 40.24922359499622), (3, 6, 35.510561809129406), (3, 7, 18.788294228055936), (4, 5, 48.010415536631214), (4, 8, 45.18849411078001), (4, 9, 36.069377593742864), (5, 6, 26.870057685088806), (5, 8, 49.4064773081425), (5, 9, 33.97057550292606), (5, 10, 36.235341863986875), (6, 7, 29.966648127543394), (6, 9, 42.42640687119285), (6, 10, 9.848857801796104), (6, 11, 20.615528128088304), (7, 10, 31.827660925679098), (7, 11, 32.202484376209235), (8, 9, 16.15549442140351), (8, 12, 24.73863375370596), (8, 13, 25.96150997149434), (9, 10, 46.09772228646444), (9, 12, 40.80441152620633), (9, 13, 40.01249804748511), (9, 14, 58.69412236331676), (10, 11, 11.40175425099138), (10, 13, 58.25804665451803), (10, 14, 38.2099463490856), (10, 15, 33.28663395418648), (11, 14, 33.61547262794322), (11, 15, 22.847319317591726), (12, 13, 13.038404810405298), (12, 16, 112.57886124845996), (13, 14, 41.012193308819754), (13, 16, 108.25894882179486), (14, 15, 24.166091947189145), (14, 16, 106.70520137275409), (15, 16, 122.09013064126027)]\n"
          ],
          "name": "stdout"
        }
      ]
    },
    {
      "cell_type": "code",
      "metadata": {
        "colab": {
          "base_uri": "https://localhost:8080/",
          "height": 265
        },
        "id": "xn21ClfrMqz7",
        "outputId": "6db32f97-8ce5-4b42-c777-cb3e261e3efd"
      },
      "source": [
        "pos = {point: point for point in headPoints}\n",
        "fig, ax = plt.subplots()\n",
        "nx.draw(G, pos=pos, node_color='k', ax=ax)\n",
        "nx.draw(G, pos=pos, node_size=500, ax=ax)  # draw nodes and edges\n",
        "nx.draw_networkx_labels(G, pos=pos)  # draw node labels/names\n",
        "# draw edge weights\n",
        "labels = nx.get_edge_attributes(G, 'distance')\n",
        "nx.draw_networkx_edge_labels(G, pos, edge_labels=labels, ax=ax)\n",
        "plt.axis(\"on\")\n",
        "ax.set_xlim(0, 210)\n",
        "ax.set_ylim(0,210)\n",
        "ax.tick_params(left=True, bottom=True, labelleft=True, labelbottom=True)\n",
        "plt.show()"
      ],
      "execution_count": 102,
      "outputs": [
        {
          "output_type": "display_data",
          "data": {
            "image/png": "[encoded data removed]",
            "text/plain": [
              "<Figure size 432x288 with 1 Axes>"
            ]
          },
          "metadata": {
            "tags": []
          }
        }
      ]
    },
    {
      "cell_type": "code",
      "metadata": {
        "id": "KumhBT5vss3P"
      },
      "source": [
        "#Calculating minimum distance from each node to sink node.\n",
        "min_dist_headNode = []\n",
        "for i in range(len(headPoints)-1):\n",
        "    min_dist = nx.shortest_path_length(G,headPoints[i],(50,200), weight='weight')\n",
        "    CH[i]['Clusterpath'] = (nx.shortest_path(G,headPoints[i],(50,200), weight='weight'))\n",
        "    min_dist_headNode.append(min_dist)\n",
        "    \n",
        "#Assigning head nodes with all the sink nodes distance\n",
        "for i in range(len(CH)):\n",
        "  CH[i]['DistSinkNode'] = min_dist_headNode[i]\n"
      ],
      "execution_count": 103,
      "outputs": []
    },
    {
      "cell_type": "code",
      "metadata": {
        "id": "ZTTYwnzn5cqk",
        "colab": {
          "base_uri": "https://localhost:8080/"
        },
        "outputId": "6042000d-ea19-4a0d-d899-ec8d27866522"
      },
      "source": [
        "#Printing all the sensor nodes\n",
        "for key,allnodes in SN.items():\n",
        "  print(key,allnodes)"
      ],
      "execution_count": 104,
      "outputs": [
        {
          "output_type": "stream",
          "text": [
            "0 {'Nodeid': 'SN[1]', 'x': 1, 'y': 5, 'clusterNo': 1, 'CHid': 'CH(0)', 'CHdist': 27.586228448267445}\n",
            "1 {'Nodeid': 'SN[2]', 'x': 44, 'y': 6, 'clusterNo': 2, 'CHid': 'CH(1)', 'CHdist': 13.0}\n",
            "2 {'Nodeid': 'SN[3]', 'x': 24, 'y': 10, 'clusterNo': 1, 'CHid': 'CH(0)', 'CHdist': 15.524174696260024}\n",
            "3 {'Nodeid': 'SN[4]', 'x': 50, 'y': 29, 'clusterNo': 6, 'CHid': 'CH(5)', 'CHdist': 0.0}\n",
            "4 {'Nodeid': 'SN[5]', 'x': 81, 'y': 3, 'clusterNo': 4, 'CHid': 'CH(3)', 'CHdist': 16.55294535724685}\n",
            "5 {'Nodeid': 'SN[6]', 'x': 88, 'y': 14, 'clusterNo': 4, 'CHid': 'CH(3)', 'CHdist': 4.0}\n",
            "6 {'Nodeid': 'SN[7]', 'x': 24, 'y': 45, 'clusterNo': 5, 'CHid': 'CH(4)', 'CHdist': 27.80287754891569}\n",
            "7 {'Nodeid': 'SN[8]', 'x': 46, 'y': 19, 'clusterNo': 2, 'CHid': 'CH(1)', 'CHdist': 16.1245154965971}\n",
            "8 {'Nodeid': 'SN[9]', 'x': 95, 'y': 36, 'clusterNo': 8, 'CHid': 'CH(7)', 'CHdist': 1.4142135623730951}\n",
            "9 {'Nodeid': 'SN[10]', 'x': 15, 'y': 96, 'clusterNo': 13, 'CHid': 'CH(12)', 'CHdist': 3.0}\n",
            "10 {'Nodeid': 'SN[11]', 'x': 78, 'y': 60, 'clusterNo': 12, 'CHid': 'CH(11)', 'CHdist': 5.656854249492381}\n",
            "11 {'Nodeid': 'SN[12]', 'x': 55, 'y': 32, 'clusterNo': 7, 'CHid': 'CH(6)', 'CHdist': 21.2602916254693}\n",
            "12 {'Nodeid': 'SN[13]', 'x': 23, 'y': 31, 'clusterNo': 5, 'CHid': 'CH(4)', 'CHdist': 21.213203435596427}\n",
            "13 {'Nodeid': 'SN[14]', 'x': 32, 'y': 11, 'clusterNo': 2, 'CHid': 'CH(1)', 'CHdist': 0.0}\n",
            "14 {'Nodeid': 'SN[15]', 'x': 55, 'y': 62, 'clusterNo': 11, 'CHid': 'CH(10)', 'CHdist': 18.681541692269406}\n",
            "15 {'Nodeid': 'SN[16]', 'x': 70, 'y': 87, 'clusterNo': 15, 'CHid': 'CH(14)', 'CHdist': 8.06225774829855}\n",
            "16 {'Nodeid': 'SN[17]', 'x': 24, 'y': 9, 'clusterNo': 1, 'CHid': 'CH(0)', 'CHdist': 16.492422502470642}\n",
            "17 {'Nodeid': 'SN[18]', 'x': 28, 'y': 44, 'clusterNo': 6, 'CHid': 'CH(5)', 'CHdist': 26.627053911388696}\n",
            "18 {'Nodeid': 'SN[19]', 'x': 45, 'y': 65, 'clusterNo': 10, 'CHid': 'CH(9)', 'CHdist': 21.095023109728988}\n",
            "19 {'Nodeid': 'SN[20]', 'x': 91, 'y': 85, 'clusterNo': 16, 'CHid': 'CH(15)', 'CHdist': 0.0}\n",
            "20 {'Nodeid': 'SN[21]', 'x': 27, 'y': 37, 'clusterNo': 6, 'CHid': 'CH(5)', 'CHdist': 24.351591323771842}\n",
            "21 {'Nodeid': 'SN[22]', 'x': 73, 'y': 57, 'clusterNo': 11, 'CHid': 'CH(10)', 'CHdist': 0.0}\n",
            "22 {'Nodeid': 'SN[23]', 'x': 69, 'y': 95, 'clusterNo': 15, 'CHid': 'CH(14)', 'CHdist': 0.0}\n",
            "23 {'Nodeid': 'SN[24]', 'x': 67, 'y': 94, 'clusterNo': 15, 'CHid': 'CH(14)', 'CHdist': 2.23606797749979}\n",
            "24 {'Nodeid': 'SN[25]', 'x': 76, 'y': 45, 'clusterNo': 8, 'CHid': 'CH(7)', 'CHdist': 22.360679774997898}\n",
            "25 {'Nodeid': 'SN[26]', 'x': 50, 'y': 5, 'clusterNo': 2, 'CHid': 'CH(1)', 'CHdist': 18.973665961010276}\n",
            "26 {'Nodeid': 'SN[27]', 'x': 90, 'y': 20, 'clusterNo': 4, 'CHid': 'CH(3)', 'CHdist': 2.8284271247461903}\n",
            "27 {'Nodeid': 'SN[28]', 'x': 57, 'y': 51, 'clusterNo': 11, 'CHid': 'CH(10)', 'CHdist': 17.08800749063506}\n",
            "28 {'Nodeid': 'SN[29]', 'x': 91, 'y': 50, 'clusterNo': 8, 'CHid': 'CH(7)', 'CHdist': 15.811388300841896}\n",
            "29 {'Nodeid': 'SN[30]', 'x': 78, 'y': 42, 'clusterNo': 8, 'CHid': 'CH(7)', 'CHdist': 19.313207915827967}\n",
            "30 {'Nodeid': 'SN[31]', 'x': 13, 'y': 16, 'clusterNo': 1, 'CHid': 'CH(0)', 'CHdist': 11.40175425099138}\n",
            "31 {'Nodeid': 'SN[32]', 'x': 73, 'y': 66, 'clusterNo': 11, 'CHid': 'CH(10)', 'CHdist': 9.0}\n",
            "32 {'Nodeid': 'SN[33]', 'x': 67, 'y': 17, 'clusterNo': 3, 'CHid': 'CH(2)', 'CHdist': 7.0}\n",
            "33 {'Nodeid': 'SN[34]', 'x': 62, 'y': 37, 'clusterNo': 7, 'CHid': 'CH(6)', 'CHdist': 13.038404810405298}\n",
            "34 {'Nodeid': 'SN[35]', 'x': 96, 'y': 15, 'clusterNo': 4, 'CHid': 'CH(3)', 'CHdist': 8.54400374531753}\n",
            "35 {'Nodeid': 'SN[36]', 'x': 76, 'y': 6, 'clusterNo': 4, 'CHid': 'CH(3)', 'CHdist': 16.97056274847714}\n",
            "36 {'Nodeid': 'SN[37]', 'x': 21, 'y': 69, 'clusterNo': 9, 'CHid': 'CH(8)', 'CHdist': 0.0}\n",
            "37 {'Nodeid': 'SN[38]', 'x': 20, 'y': 69, 'clusterNo': 9, 'CHid': 'CH(8)', 'CHdist': 1.0}\n",
            "38 {'Nodeid': 'SN[39]', 'x': 76, 'y': 21, 'clusterNo': 4, 'CHid': 'CH(3)', 'CHdist': 12.36931687685298}\n",
            "39 {'Nodeid': 'SN[40]', 'x': 26, 'y': 2, 'clusterNo': 2, 'CHid': 'CH(1)', 'CHdist': 10.816653826391969}\n",
            "40 {'Nodeid': 'SN[41]', 'x': 100, 'y': 71, 'clusterNo': 12, 'CHid': 'CH(11)', 'CHdist': 19.313207915827967}\n",
            "41 {'Nodeid': 'SN[42]', 'x': 45, 'y': 61, 'clusterNo': 10, 'CHid': 'CH(9)', 'CHdist': 19.313207915827967}\n",
            "42 {'Nodeid': 'SN[43]', 'x': 20, 'y': 25, 'clusterNo': 1, 'CHid': 'CH(0)', 'CHdist': 0.0}\n",
            "43 {'Nodeid': 'SN[44]', 'x': 45, 'y': 77, 'clusterNo': 14, 'CHid': 'CH(13)', 'CHdist': 24.041630560342615}\n",
            "44 {'Nodeid': 'SN[45]', 'x': 90, 'y': 88, 'clusterNo': 16, 'CHid': 'CH(15)', 'CHdist': 3.1622776601683795}\n",
            "45 {'Nodeid': 'SN[46]', 'x': 81, 'y': 26, 'clusterNo': 8, 'CHid': 'CH(7)', 'CHdist': 17.4928556845359}\n",
            "46 {'Nodeid': 'SN[47]', 'x': 2, 'y': 28, 'clusterNo': 5, 'CHid': 'CH(4)', 'CHdist': 0.0}\n",
            "47 {'Nodeid': 'SN[48]', 'x': 61, 'y': 61, 'clusterNo': 11, 'CHid': 'CH(10)', 'CHdist': 12.649110640673518}\n",
            "48 {'Nodeid': 'SN[49]', 'x': 84, 'y': 20, 'clusterNo': 4, 'CHid': 'CH(3)', 'CHdist': 4.47213595499958}\n",
            "49 {'Nodeid': 'SN[50]', 'x': 32, 'y': 10, 'clusterNo': 2, 'CHid': 'CH(1)', 'CHdist': 1.0}\n",
            "50 {'Nodeid': 'SN[51]', 'x': 53, 'y': 52, 'clusterNo': 11, 'CHid': 'CH(10)', 'CHdist': 20.615528128088304}\n",
            "51 {'Nodeid': 'SN[52]', 'x': 37, 'y': 94, 'clusterNo': 14, 'CHid': 'CH(13)', 'CHdist': 9.0}\n",
            "52 {'Nodeid': 'SN[53]', 'x': 82, 'y': 64, 'clusterNo': 12, 'CHid': 'CH(11)', 'CHdist': 0.0}\n",
            "53 {'Nodeid': 'SN[54]', 'x': 15, 'y': 93, 'clusterNo': 13, 'CHid': 'CH(12)', 'CHdist': 0.0}\n",
            "54 {'Nodeid': 'SN[55]', 'x': 1, 'y': 70, 'clusterNo': 9, 'CHid': 'CH(8)', 'CHdist': 20.024984394500787}\n",
            "55 {'Nodeid': 'SN[56]', 'x': 27, 'y': 54, 'clusterNo': 10, 'CHid': 'CH(9)', 'CHdist': 0.0}\n",
            "56 {'Nodeid': 'SN[57]', 'x': 72, 'y': 43, 'clusterNo': 7, 'CHid': 'CH(6)', 'CHdist': 5.830951894845301}\n",
            "57 {'Nodeid': 'SN[58]', 'x': 25, 'y': 36, 'clusterNo': 5, 'CHid': 'CH(4)', 'CHdist': 24.351591323771842}\n",
            "58 {'Nodeid': 'SN[59]', 'x': 28, 'y': 94, 'clusterNo': 14, 'CHid': 'CH(13)', 'CHdist': 0.0}\n",
            "59 {'Nodeid': 'SN[60]', 'x': 29, 'y': 28, 'clusterNo': 6, 'CHid': 'CH(5)', 'CHdist': 21.02379604162864}\n",
            "60 {'Nodeid': 'SN[61]', 'x': 82, 'y': 96, 'clusterNo': 16, 'CHid': 'CH(15)', 'CHdist': 14.212670403551895}\n",
            "61 {'Nodeid': 'SN[62]', 'x': 84, 'y': 15, 'clusterNo': 4, 'CHid': 'CH(3)', 'CHdist': 5.0}\n",
            "62 {'Nodeid': 'SN[63]', 'x': 28, 'y': 35, 'clusterNo': 6, 'CHid': 'CH(5)', 'CHdist': 22.80350850198276}\n",
            "63 {'Nodeid': 'SN[64]', 'x': 69, 'y': 48, 'clusterNo': 7, 'CHid': 'CH(6)', 'CHdist': 0.0}\n",
            "64 {'Nodeid': 'SN[65]', 'x': 41, 'y': 62, 'clusterNo': 10, 'CHid': 'CH(9)', 'CHdist': 16.1245154965971}\n",
            "65 {'Nodeid': 'SN[66]', 'x': 52, 'y': 94, 'clusterNo': 15, 'CHid': 'CH(14)', 'CHdist': 17.029386365926403}\n",
            "66 {'Nodeid': 'SN[67]', 'x': 87, 'y': 88, 'clusterNo': 16, 'CHid': 'CH(15)', 'CHdist': 5.0}\n",
            "67 {'Nodeid': 'SN[68]', 'x': 23, 'y': 44, 'clusterNo': 5, 'CHid': 'CH(4)', 'CHdist': 26.40075756488817}\n",
            "68 {'Nodeid': 'SN[69]', 'x': 53, 'y': 64, 'clusterNo': 11, 'CHid': 'CH(10)', 'CHdist': 21.18962010041709}\n",
            "69 {'Nodeid': 'SN[70]', 'x': 60, 'y': 17, 'clusterNo': 3, 'CHid': 'CH(2)', 'CHdist': 0.0}\n",
            "70 {'Nodeid': 'SN[71]', 'x': 71, 'y': 1, 'clusterNo': 3, 'CHid': 'CH(2)', 'CHdist': 19.4164878389476}\n",
            "71 {'Nodeid': 'SN[72]', 'x': 100, 'y': 77, 'clusterNo': 16, 'CHid': 'CH(15)', 'CHdist': 12.041594578792296}\n",
            "72 {'Nodeid': 'SN[73]', 'x': 46, 'y': 10, 'clusterNo': 2, 'CHid': 'CH(1)', 'CHdist': 14.035668847618199}\n",
            "73 {'Nodeid': 'SN[74]', 'x': 26, 'y': 41, 'clusterNo': 6, 'CHid': 'CH(5)', 'CHdist': 26.832815729997478}\n",
            "74 {'Nodeid': 'SN[75]', 'x': 55, 'y': 12, 'clusterNo': 3, 'CHid': 'CH(2)', 'CHdist': 7.0710678118654755}\n",
            "75 {'Nodeid': 'SN[76]', 'x': 60, 'y': 6, 'clusterNo': 3, 'CHid': 'CH(2)', 'CHdist': 11.0}\n",
            "76 {'Nodeid': 'SN[77]', 'x': 73, 'y': 60, 'clusterNo': 11, 'CHid': 'CH(10)', 'CHdist': 3.0}\n",
            "77 {'Nodeid': 'SN[78]', 'x': 88, 'y': 18, 'clusterNo': 4, 'CHid': 'CH(3)', 'CHdist': 0.0}\n",
            "78 {'Nodeid': 'SN[79]', 'x': 64, 'y': 18, 'clusterNo': 3, 'CHid': 'CH(2)', 'CHdist': 4.123105625617661}\n",
            "79 {'Nodeid': 'SN[80]', 'x': 73, 'y': 55, 'clusterNo': 11, 'CHid': 'CH(10)', 'CHdist': 2.0}\n",
            "80 {'Nodeid': 'SN[81]', 'x': 72, 'y': 22, 'clusterNo': 3, 'CHid': 'CH(2)', 'CHdist': 13.0}\n",
            "81 {'Nodeid': 'SN[82]', 'x': 54, 'y': 35, 'clusterNo': 7, 'CHid': 'CH(6)', 'CHdist': 19.849433241279208}\n",
            "82 {'Nodeid': 'SN[83]', 'x': 47, 'y': 41, 'clusterNo': 6, 'CHid': 'CH(5)', 'CHdist': 12.36931687685298}\n",
            "83 {'Nodeid': 'SN[84]', 'x': 68, 'y': 39, 'clusterNo': 7, 'CHid': 'CH(6)', 'CHdist': 9.055385138137417}\n",
            "84 {'Nodeid': 'SN[85]', 'x': 60, 'y': 99, 'clusterNo': 15, 'CHid': 'CH(14)', 'CHdist': 9.848857801796104}\n",
            "85 {'Nodeid': 'SN[86]', 'x': 86, 'y': 64, 'clusterNo': 12, 'CHid': 'CH(11)', 'CHdist': 4.0}\n",
            "86 {'Nodeid': 'SN[87]', 'x': 28, 'y': 36, 'clusterNo': 6, 'CHid': 'CH(5)', 'CHdist': 23.08679276123039}\n",
            "87 {'Nodeid': 'SN[88]', 'x': 79, 'y': 56, 'clusterNo': 12, 'CHid': 'CH(11)', 'CHdist': 8.54400374531753}\n",
            "88 {'Nodeid': 'SN[89]', 'x': 46, 'y': 72, 'clusterNo': 10, 'CHid': 'CH(9)', 'CHdist': 26.1725046566048}\n",
            "89 {'Nodeid': 'SN[90]', 'x': 52, 'y': 95, 'clusterNo': 15, 'CHid': 'CH(14)', 'CHdist': 17.0}\n",
            "90 {'Nodeid': 'SN[91]', 'x': 95, 'y': 5, 'clusterNo': 4, 'CHid': 'CH(3)', 'CHdist': 14.7648230602334}\n",
            "91 {'Nodeid': 'SN[92]', 'x': 96, 'y': 35, 'clusterNo': 8, 'CHid': 'CH(7)', 'CHdist': 0.0}\n",
            "92 {'Nodeid': 'SN[93]', 'x': 99, 'y': 45, 'clusterNo': 8, 'CHid': 'CH(7)', 'CHdist': 10.44030650891055}\n",
            "93 {'Nodeid': 'SN[94]', 'x': 33, 'y': 39, 'clusterNo': 6, 'CHid': 'CH(5)', 'CHdist': 19.72308292331602}\n",
            "94 {'Nodeid': 'SN[95]', 'x': 10, 'y': 88, 'clusterNo': 13, 'CHid': 'CH(12)', 'CHdist': 7.0710678118654755}\n",
            "95 {'Nodeid': 'SN[96]', 'x': 87, 'y': 98, 'clusterNo': 16, 'CHid': 'CH(15)', 'CHdist': 13.601470508735444}\n",
            "96 {'Nodeid': 'SN[97]', 'x': 15, 'y': 84, 'clusterNo': 13, 'CHid': 'CH(12)', 'CHdist': 9.0}\n",
            "97 {'Nodeid': 'SN[98]', 'x': 28, 'y': 21, 'clusterNo': 2, 'CHid': 'CH(1)', 'CHdist': 10.770329614269007}\n",
            "98 {'Nodeid': 'SN[99]', 'x': 11, 'y': 23, 'clusterNo': 1, 'CHid': 'CH(0)', 'CHdist': 9.219544457292887}\n",
            "99 {'Nodeid': 'SN[100]', 'x': 96, 'y': 8, 'clusterNo': 4, 'CHid': 'CH(3)', 'CHdist': 12.806248474865697}\n"
          ],
          "name": "stdout"
        }
      ]
    },
    {
      "cell_type": "code",
      "metadata": {
        "id": "2n6xgOc5EVde",
        "colab": {
          "base_uri": "https://localhost:8080/"
        },
        "outputId": "c34d935d-55c4-4d47-e944-ba97818be3c6"
      },
      "source": [
        "#Printing all the cluster head nodes\n",
        "for key,headNodes in CH.items():\n",
        "  print(key,headNodes)"
      ],
      "execution_count": 105,
      "outputs": [
        {
          "output_type": "stream",
          "text": [
            "0 {'NodeId': 'SN[42]', 'clusterNo': 1, 'DistSinkNode': 197.65724049496387, 'Clusterpath': [(20, 25), (2, 28), (21, 69), (28, 94), (50, 200)]}\n",
            "1 {'NodeId': 'SN[13]', 'clusterNo': 2, 'DistSinkNode': 206.60633370854228, 'Clusterpath': [(32, 11), (50, 29), (73, 57), (69, 95), (50, 200)]}\n",
            "2 {'NodeId': 'SN[69]', 'clusterNo': 3, 'DistSinkNode': 187.04403030677372, 'Clusterpath': [(60, 17), (69, 48), (73, 57), (69, 95), (50, 200)]}\n",
            "3 {'NodeId': 'SN[77]', 'clusterNo': 4, 'DistSinkNode': 190.2745673327652, 'Clusterpath': [(88, 18), (69, 48), (73, 57), (69, 95), (50, 200)]}\n",
            "4 {'NodeId': 'SN[46]', 'clusterNo': 5, 'DistSinkNode': 179.40895290406922, 'Clusterpath': [(2, 28), (21, 69), (28, 94), (50, 200)]}\n",
            "5 {'NodeId': 'SN[03]', 'clusterNo': 6, 'DistSinkNode': 181.15048958582656, 'Clusterpath': [(50, 29), (73, 57), (69, 95), (50, 200)]}\n",
            "6 {'NodeId': 'SN[63]', 'clusterNo': 7, 'DistSinkNode': 154.76400552363577, 'Clusterpath': [(69, 48), (73, 57), (69, 95), (50, 200)]}\n",
            "7 {'NodeId': 'SN[91]', 'clusterNo': 8, 'DistSinkNode': 172.52315837690654, 'Clusterpath': [(96, 35), (82, 64), (69, 95), (50, 200)]}\n",
            "8 {'NodeId': 'SN[36]', 'clusterNo': 9, 'DistSinkNode': 134.2204587932892, 'Clusterpath': [(21, 69), (28, 94), (50, 200)]}\n",
            "9 {'NodeId': 'SN[55]', 'clusterNo': 10, 'DistSinkNode': 148.27144686927997, 'Clusterpath': [(27, 54), (28, 94), (50, 200)]}\n",
            "10 {'NodeId': 'SN[21]', 'clusterNo': 11, 'DistSinkNode': 144.91514772183967, 'Clusterpath': [(73, 57), (69, 95), (50, 200)]}\n",
            "11 {'NodeId': 'SN[52]', 'clusterNo': 12, 'DistSinkNode': 140.3206740006973, 'Clusterpath': [(82, 64), (69, 95), (50, 200)]}\n",
            "12 {'NodeId': 'SN[53]', 'clusterNo': 13, 'DistSinkNode': 112.57886124845996, 'Clusterpath': [(15, 93), (50, 200)]}\n",
            "13 {'NodeId': 'SN[58]', 'clusterNo': 14, 'DistSinkNode': 108.25894882179486, 'Clusterpath': [(28, 94), (50, 200)]}\n",
            "14 {'NodeId': 'SN[22]', 'clusterNo': 15, 'DistSinkNode': 106.70520137275409, 'Clusterpath': [(69, 95), (50, 200)]}\n",
            "15 {'NodeId': 'SN[19]', 'clusterNo': 16, 'DistSinkNode': 122.09013064126027, 'Clusterpath': [(91, 85), (50, 200)]}\n"
          ],
          "name": "stdout"
        }
      ]
    }
  ]
}