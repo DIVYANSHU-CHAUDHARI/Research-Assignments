{
  "nbformat": 4,
  "nbformat_minor": 0,
  "metadata": {
    "colab": {
      "name": "Research_Assg1.ipynb",
      "provenance": [],
      "collapsed_sections": [],
      "authorship_tag": "ABX9TyN/bNtbOwnE1ccSbaqgXom+",
      "include_colab_link": true
    },
    "kernelspec": {
      "name": "python3",
      "display_name": "Python 3"
    },
    "language_info": {
      "name": "python"
    }
  },
  "cells": [
    {
      "cell_type": "markdown",
      "metadata": {
        "id": "view-in-github",
        "colab_type": "text"
      },
      "source": [
        "<a href=\"https://colab.research.google.com/github/DIVYANSHU-CHAUDHARI/Shortest-path-Cluster-head-Nodes/blob/main/Research_Assg1.ipynb\" target=\"_parent\"><img src=\"https://colab.research.google.com/assets/colab-badge.svg\" alt=\"Open In Colab\"/></a>"
      ]
    },
    {
      "cell_type": "code",
      "metadata": {
        "id": "X87H5ec7TlmW"
      },
      "source": [
        "import random\n",
        "import math\n",
        "import networkx as nx\n",
        "import matplotlib.pyplot as plt\n",
        "SN = {}\n",
        "CH = {}\n",
        "CHN = {1:(2,6,5),2:(1,5,6,7,3),3:(2,6,7,8,4),4:(3,7,8),5:(9,10,6,2,1),6:(9,10,11,5,7,1,2,3),7:(10,6,11,12,8,2,3,4),8:(12,11,7,3,4),9:(13,14,10,6,5),10:(13,14,15,9,11,5,6,7),11:(14,15,16,10,12,6,7,8),12:(8,7,11,15,16),13:(9,10,14,17),14:(13,9,10,11,15,17),15:(14,10,11,12,16,17),16:(15,11,12,17),17:(13,14,15,16)}\n",
        "#Initializing all nodes\n",
        "\n",
        "for i in range(100):\n",
        "  SN[i] = {\n",
        "      'Nodeid':0,\n",
        "      'x':random.randint(1,100),\n",
        "      'y':random.randint(1,100),\n",
        "      'clusterNo' : 0,\n",
        "      'CHid' : 0,\n",
        "      'CHdist':0\n",
        "      }\n",
        "#Initializing head Nodes\n",
        "\n",
        "for i in range(16):\n",
        "  CH[i] = {\n",
        "      'NodeId':0,\n",
        "      'clusterNo':0,\n",
        "      'DistSinkNode':0\n",
        "      'Clusterpath':0\n",
        "  }"
      ],
      "execution_count": 55,
      "outputs": []
    },
    {
      "cell_type": "code",
      "metadata": {
        "id": "GsEYQHTNHJOe"
      },
      "source": [
        "#Initializing Nodeid\n",
        "for i in range(100):\n",
        "  SN[i]['Nodeid'] = 'SN[' + str(i+1) + ']' "
      ],
      "execution_count": 56,
      "outputs": []
    },
    {
      "cell_type": "code",
      "metadata": {
        "id": "iK_gPuPXYd0w"
      },
      "source": [
        "#Assigning cluster nos to all the nodes based on x and y coordinates\n",
        "for x in range(0,76,25):\n",
        "  for y in range(0,76,25):\n",
        "    for i in range(100):\n",
        "      if SN[i]['x']>x and SN[i]['x']<=x+25 and SN[i]['y']>y and SN[i]['y']<=y+25:\n",
        "        if y == 0:SN[i]['clusterNo'] = 1+x//25\n",
        "        elif y == 25:SN[i]['clusterNo'] = 5+x//25\n",
        "        elif y==50:SN[i]['clusterNo'] = 9+x//25\n",
        "        elif y == 75:SN[i]['clusterNo'] = 13+x//25\n",
        "        "
      ],
      "execution_count": 57,
      "outputs": []
    },
    {
      "cell_type": "code",
      "metadata": {
        "id": "_IKYyrZRwWpR"
      },
      "source": [
        "#Forming a clusters list of list with each list representing a cluster.\n",
        "#Each cluster list contains nodeid no. of its nodes\n",
        "clusterList = []\n",
        "tempList=[]\n",
        "for n in range(1,17):\n",
        "  tempList=[]\n",
        "  for i in range(0,100):\n",
        "    if SN[i]['clusterNo'] == n:\n",
        "      tempList.append(i)\n",
        "  clusterList.append(tempList)\n"
      ],
      "execution_count": 58,
      "outputs": []
    },
    {
      "cell_type": "code",
      "metadata": {
        "id": "RvEnmdTC1mj-"
      },
      "source": [
        "#Assigning cluster no. and Nodeid to each head node randomly from each cluster of the cluster List.\n",
        "for i in range(len(clusterList)):\n",
        "  CH[i]['clusterNo'] = i+1\n",
        "  CH[i]['NodeId'] = 'SN[' + str(random.choice(clusterList[i])).zfill(2) + ']'"
      ],
      "execution_count": 59,
      "outputs": []
    },
    {
      "cell_type": "code",
      "metadata": {
        "id": "687NmR93GQJe",
        "outputId": "8c751d3a-a297-4ce5-e7ac-3a27144cde61",
        "colab": {
          "base_uri": "https://localhost:8080/"
        }
      },
      "source": [
        "print(CH)"
      ],
      "execution_count": 60,
      "outputs": [
        {
          "output_type": "stream",
          "text": [
            "{0: {'NodeId': 'SN[14]', 'clusterNo': 1, 'DistSinkNode': 0}, 1: {'NodeId': 'SN[06]', 'clusterNo': 2, 'DistSinkNode': 0}, 2: {'NodeId': 'SN[52]', 'clusterNo': 3, 'DistSinkNode': 0}, 3: {'NodeId': 'SN[17]', 'clusterNo': 4, 'DistSinkNode': 0}, 4: {'NodeId': 'SN[61]', 'clusterNo': 5, 'DistSinkNode': 0}, 5: {'NodeId': 'SN[35]', 'clusterNo': 6, 'DistSinkNode': 0}, 6: {'NodeId': 'SN[08]', 'clusterNo': 7, 'DistSinkNode': 0}, 7: {'NodeId': 'SN[09]', 'clusterNo': 8, 'DistSinkNode': 0}, 8: {'NodeId': 'SN[81]', 'clusterNo': 9, 'DistSinkNode': 0}, 9: {'NodeId': 'SN[45]', 'clusterNo': 10, 'DistSinkNode': 0}, 10: {'NodeId': 'SN[37]', 'clusterNo': 11, 'DistSinkNode': 0}, 11: {'NodeId': 'SN[94]', 'clusterNo': 12, 'DistSinkNode': 0}, 12: {'NodeId': 'SN[42]', 'clusterNo': 13, 'DistSinkNode': 0}, 13: {'NodeId': 'SN[16]', 'clusterNo': 14, 'DistSinkNode': 0}, 14: {'NodeId': 'SN[32]', 'clusterNo': 15, 'DistSinkNode': 0}, 15: {'NodeId': 'SN[25]', 'clusterNo': 16, 'DistSinkNode': 0}}\n"
          ],
          "name": "stdout"
        }
      ]
    },
    {
      "cell_type": "code",
      "metadata": {
        "id": "FmzZhh_m6uSy"
      },
      "source": [
        "#Assigning CHId and calculating CHDist for every sensor node.\n",
        "for sn in range(100):\n",
        "  for hn in range(16):\n",
        "    if SN[sn]['clusterNo'] == CH[hn]['clusterNo']:\n",
        "      SN[sn]['CHid'] = 'CH(' + str(hn) + ')' \n",
        "      xs,xh= SN[sn]['x'],SN[int(CH[hn]['NodeId'][-3:-1])]['x']\n",
        "      ys,yh=SN[sn]['y'],SN[int(CH[hn]['NodeId'][-3:-1])]['y']\n",
        "      SN[sn]['CHdist'] = math.sqrt((xh - xs)**2 + (yh - ys)**2)"
      ],
      "execution_count": 61,
      "outputs": []
    },
    {
      "cell_type": "code",
      "metadata": {
        "id": "S35Cy4L5nOHe"
      },
      "source": [
        "#3rd part\n",
        "#Create a list of the head nodes coordinates\n",
        "headPoints = []\n",
        "for i in range(16):\n",
        "  headPoints.append((SN[int(CH[i]['NodeId'][-3:-1])]['x'],SN[int(CH[i]['NodeId'][-3:-1])]['y']))\n",
        "\n",
        "#Adding sink node\n",
        "headPoints.append((50,200))\n",
        "\n",
        "#Create list of headedges with first two values of tuples denoting indices of headPoints and third value denoting weight between them\n",
        "headEdges = []\n",
        "for i in range(len(headPoints)):\n",
        "  for j in range(i+1,len(headPoints)):\n",
        "    if (j+1) in CHN[i+1]:\n",
        "      x1,x2 = headPoints[i][0],headPoints[j][0]\n",
        "      y1,y2 = headPoints[i][1],headPoints[j][1]\n",
        "      distXY = math.sqrt((x1 - x2)**2 + (y1 - y2)**2)\n",
        "      headEdges.append((i,j,distXY))\n",
        "\n",
        "#Function to add edge to the graph\n",
        "def add_edge_to_graph(G,e1,e2,w):\n",
        "   G.add_edge(e1,e2,weight=w) \n",
        "\n",
        "#Initializing graph\n",
        "G = nx.Graph()\n",
        "\n",
        "#Adding all the edges to the graph.\n",
        "for i in range(len(headEdges)):\n",
        "    add_edge_to_graph(G, headPoints[headEdges[i][0]], headPoints[headEdges[i][1]], headEdges[i][2])"
      ],
      "execution_count": 62,
      "outputs": []
    },
    {
      "cell_type": "code",
      "metadata": {
        "id": "B1o5YY62N3su",
        "outputId": "216d59a6-8fe9-4277-bb52-0fdd780f209a",
        "colab": {
          "base_uri": "https://localhost:8080/"
        }
      },
      "source": [
        "print(headEdges)"
      ],
      "execution_count": 63,
      "outputs": [
        {
          "output_type": "stream",
          "text": [
            "[(0, 1, 29.017236257093817), (0, 4, 20.09975124224178), (0, 5, 27.65863337187866), (1, 2, 27.892651361962706), (1, 4, 36.359317925395686), (1, 5, 22.825424421026653), (1, 6, 34.828149534535996), (2, 3, 20.223748416156685), (2, 5, 46.61544808322666), (2, 6, 29.0), (2, 7, 50.0), (3, 6, 32.802438933713454), (3, 7, 38.3275357934736), (4, 5, 20.024984394500787), (4, 8, 35.0), (4, 9, 34.40930106817051), (5, 6, 38.05259518088089), (5, 8, 39.44616584663204), (5, 9, 20.615528128088304), (5, 10, 51.10772935672255), (6, 7, 31.953090617340916), (6, 9, 34.48187929913333), (6, 10, 24.73863375370596), (6, 11, 37.94733192202055), (7, 10, 27.294688127912362), (7, 11, 30.805843601498726), (8, 9, 31.76476034853718), (8, 12, 31.953090617340916), (8, 13, 37.8021163428716), (9, 10, 36.6742416417845), (9, 12, 48.104053883222775), (9, 13, 38.05259518088089), (9, 14, 47.01063709417264), (10, 11, 13.416407864998739), (10, 13, 46.010868281309364), (10, 14, 30.805843601498726), (10, 15, 31.906112267087632), (11, 14, 22.20360331117452), (11, 15, 18.601075237738275), (12, 13, 20.248456731316587), (12, 16, 105.3612832116238), (13, 14, 27.018512172212592), (13, 16, 108.55873986004075), (14, 15, 24.186773244895647), (14, 16, 110.16805344563369), (15, 16, 118.92854997854805)]\n"
          ],
          "name": "stdout"
        }
      ]
    },
    {
      "cell_type": "code",
      "metadata": {
        "id": "xn21ClfrMqz7"
      },
      "source": [
        "pos = {point: point for point in headPoints}\n",
        "fig, ax = plt.subplots()\n",
        "nx.draw(G, pos=pos, node_color='k', ax=ax)\n",
        "nx.draw(G, pos=pos, node_size=500, ax=ax)  # draw nodes and edges\n",
        "nx.draw_networkx_labels(G, pos=pos)  # draw node labels/names\n",
        "# draw edge weights\n",
        "labels = nx.get_edge_attributes(G, 'distance')\n",
        "nx.draw_networkx_edge_labels(G, pos, edge_labels=labels, ax=ax)\n",
        "plt.axis(\"on\")\n",
        "ax.set_xlim(0, 210)\n",
        "ax.set_ylim(0,210)\n",
        "ax.tick_params(left=True, bottom=True, labelleft=True, labelbottom=True)\n",
        "plt.show()"
      ],
      "execution_count": null,
      "outputs": []
    },
    {
      "cell_type": "code",
      "metadata": {
        "id": "KumhBT5vss3P"
      },
      "source": [
        "#Calculating minimum distance from each node to sink node.\n",
        "min_dist_headNode = []\n",
        "for i in range(len(headPoints)-1):\n",
        "    min_dist = nx.shortest_path_length(G,headPoints[i],(50,200), weight='weight')\n",
        "    CH[i]['Clusterpath'] = (nx.shortest_path(G,headPoints[i],(50,200), weight='weight'))\n",
        "    min_dist_headNode.append(min_dist)\n",
        "    \n",
        "#Assigning head nodes with all the sink nodes distance\n",
        "for i in range(len(CH)):\n",
        "  CH[i]['DistSinkNode'] = min_dist_headNode[i]\n"
      ],
      "execution_count": 74,
      "outputs": []
    },
    {
      "cell_type": "code",
      "metadata": {
        "id": "ZTTYwnzn5cqk"
      },
      "source": [
        "#Printing all the sensor nodes\n",
        "for key,allnodes in SN.items():\n",
        "  print(key,allnodes)"
      ],
      "execution_count": null,
      "outputs": []
    },
    {
      "cell_type": "code",
      "metadata": {
        "id": "2n6xgOc5EVde"
      },
      "source": [
        "#Printing all the cluster head nodes\n",
        "for key,headNodes in CH.items():\n",
        "  print(key,headNodes)"
      ],
      "execution_count": null,
      "outputs": []
    }
  ]
}