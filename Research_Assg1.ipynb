{
  "nbformat": 4,
  "nbformat_minor": 0,
  "metadata": {
    "colab": {
      "name": "Research_Assg1.ipynb",
      "provenance": [],
      "collapsed_sections": [],
      "authorship_tag": "ABX9TyOqqJ3Qn9o5HfcFzCW3ENUi",
      "include_colab_link": true
    },
    "kernelspec": {
      "name": "python3",
      "display_name": "Python 3"
    },
    "language_info": {
      "name": "python"
    }
  },
  "cells": [
    {
      "cell_type": "markdown",
      "metadata": {
        "id": "view-in-github",
        "colab_type": "text"
      },
      "source": [
        "<a href=\"https://colab.research.google.com/github/DIVYANSHU-CHAUDHARI/Research-Assignments/blob/main/Research_Assg1.ipynb\" target=\"_parent\"><img src=\"https://colab.research.google.com/assets/colab-badge.svg\" alt=\"Open In Colab\"/></a>"
      ]
    },
    {
      "cell_type": "code",
      "metadata": {
        "id": "X87H5ec7TlmW"
      },
      "source": [
        "import random\n",
        "import math\n",
        "import networkx as nx\n",
        "\n",
        "SN = {}\n",
        "CH = {}\n",
        "\n",
        "#Initializing all nodes\n",
        "\n",
        "for i in range(100):\n",
        "  SN[i] = {\n",
        "      'Nodeid':0,\n",
        "      'x':random.randint(1,100),\n",
        "      'y':random.randint(1,100),\n",
        "      'clusterNo' : 0,\n",
        "      'CHid' : 0,\n",
        "      'CHdist':0\n",
        "      }\n",
        "#Initializing head Nodes\n",
        "\n",
        "for i in range(16):\n",
        "  CH[i] = {\n",
        "      'NodeId':0,\n",
        "      'clusterNo':0,\n",
        "      'DistSinkNode':0\n",
        "  }"
      ],
      "execution_count": 95,
      "outputs": []
    },
    {
      "cell_type": "code",
      "metadata": {
        "id": "GsEYQHTNHJOe"
      },
      "source": [
        "for i in range(100):\n",
        "  SN[i]['Nodeid'] = 'SN[' + str(i+1) + ']' "
      ],
      "execution_count": 96,
      "outputs": []
    },
    {
      "cell_type": "code",
      "metadata": {
        "id": "iK_gPuPXYd0w"
      },
      "source": [
        "#Assigning cluster nos to all the nodes based on x and y coordinates\n",
        "for x in range(0,76,25):\n",
        "  for y in range(0,76,25):\n",
        "    for i in range(100):\n",
        "      if SN[i]['x']>x and SN[i]['x']<=x+25 and SN[i]['y']>y and SN[i]['y']<=y+25:\n",
        "        if y == 0:SN[i]['clusterNo'] = 1+x//25\n",
        "        elif y == 25:SN[i]['clusterNo'] = 5+x//25\n",
        "        elif y==50:SN[i]['clusterNo'] = 9+x//25\n",
        "        elif y == 75:SN[i]['clusterNo'] = 13+x//25\n",
        "        "
      ],
      "execution_count": 97,
      "outputs": []
    },
    {
      "cell_type": "code",
      "metadata": {
        "id": "_IKYyrZRwWpR"
      },
      "source": [
        "#Forming a clusters list of list with each list representing a cluster.\n",
        "#Each cluster list contains nodeid no. of its nodes\n",
        "clusterList = []\n",
        "tempList=[]\n",
        "for n in range(1,17):\n",
        "  tempList=[]\n",
        "  for i in range(0,100):\n",
        "    if SN[i]['clusterNo'] == n:\n",
        "      tempList.append(i)\n",
        "  clusterList.append(tempList)\n"
      ],
      "execution_count": 98,
      "outputs": []
    },
    {
      "cell_type": "code",
      "metadata": {
        "id": "RvEnmdTC1mj-"
      },
      "source": [
        "#Assigning cluster no. and Nodeid to each head node randomly from each cluster of the cluster List.\n",
        "for i in range(len(clusterList)):\n",
        "  CH[i]['clusterNo'] = i+1\n",
        "  CH[i]['NodeId'] = 'SN[' + str(random.choice(clusterList[i])).zfill(2) + ']'"
      ],
      "execution_count": 99,
      "outputs": []
    },
    {
      "cell_type": "code",
      "metadata": {
        "id": "FmzZhh_m6uSy"
      },
      "source": [
        "#Assigning CHId and calculating CHDist for every sensor node.\n",
        "for sn in range(100):\n",
        "  for hn in range(16):\n",
        "    if SN[sn]['clusterNo'] == CH[hn]['clusterNo']:\n",
        "      SN[sn]['CHid'] = 'CH(' + str(hn) + ')' \n",
        "      xs,xh= SN[sn]['x'],SN[int(CH[hn]['NodeId'][-3:-1])]['x']\n",
        "      ys,yh=SN[sn]['y'],SN[int(CH[hn]['NodeId'][-3:-1])]['y']\n",
        "      SN[sn]['CHdist'] = math.sqrt((xh - xs)**2 + (yh - ys)**2)"
      ],
      "execution_count": 100,
      "outputs": []
    },
    {
      "cell_type": "code",
      "metadata": {
        "id": "S35Cy4L5nOHe"
      },
      "source": [
        "#3rd part\n",
        "#Create a list of the head nodes coordinates\n",
        "headPoints = []\n",
        "for i in range(16):\n",
        "  headPoints.append((SN[int(CH[i]['NodeId'][-3:-1])]['x'],SN[int(CH[i]['NodeId'][-3:-1])]['y']))\n",
        "\n",
        "#Adding sink node\n",
        "headPoints.append((50,200))\n",
        "\n",
        "#Create list of headedges with first two values of tuples denoting indices of headPoints and third value denoting weight between them\n",
        "headEdges = []\n",
        "for i in range(len(headPoints)):\n",
        "  for j in range(i+1,len(headPoints)):\n",
        "    x1,x2 = headPoints[i][0],headPoints[j][0]\n",
        "    y1,y2 = headPoints[i][1],headPoints[j][1]\n",
        "    distXY = math.sqrt((x1 - x2)**2 + (y1 - y2)**2)\n",
        "    headEdges.append((i,j,distXY))\n",
        "\n",
        "#Function to add edge to the graph\n",
        "def add_edge_to_graph(G,e1,e2,w):\n",
        "   G.add_edge(e1,e2,weight=w) \n",
        "\n",
        "#Initializing graph\n",
        "G = nx.Graph()\n",
        "\n",
        "#Adding all the edges to the graph.\n",
        "for i in range(len(headEdges)):\n",
        "    add_edge_to_graph(G, headPoints[headEdges[i][0]], headPoints[headEdges[i][1]], headEdges[i][2])\n"
      ],
      "execution_count": 102,
      "outputs": []
    },
    {
      "cell_type": "code",
      "metadata": {
        "id": "KumhBT5vss3P"
      },
      "source": [
        "#Calculating minimum distance from each node to sink node.\n",
        "min_dist_headNode = []\n",
        "for i in range(len(headPoints)-1):\n",
        "    min_dist = nx.shortest_path_length(G,headPoints[i],(50,200), weight='weight')\n",
        "    min_dist_headNode.append(min_dist)\n",
        "    \n",
        "#Assigning head nodes with all the sink nodes distance\n",
        "for i in range(len(CH)):\n",
        "  CH[i]['DistSinkNode'] = min_dist_headNode[i]\n"
      ],
      "execution_count": 103,
      "outputs": []
    },
    {
      "cell_type": "code",
      "metadata": {
        "id": "ZTTYwnzn5cqk",
        "colab": {
          "base_uri": "https://localhost:8080/"
        },
        "outputId": "1443841a-ba52-4852-ab3e-9bdc3de57f64"
      },
      "source": [
        "#Printing all the sensor nodes\n",
        "for key,allnodes in SN.items():\n",
        "  print(key,allnodes)"
      ],
      "execution_count": 104,
      "outputs": [
        {
          "output_type": "stream",
          "text": [
            "0 {'Nodeid': 'SN[1]', 'x': 32, 'y': 97, 'clusterNo': 14, 'CHid': 'CH(13)', 'CHdist': 4.242640687119285}\n",
            "1 {'Nodeid': 'SN[2]', 'x': 88, 'y': 1, 'clusterNo': 4, 'CHid': 'CH(3)', 'CHdist': 13.601470508735444}\n",
            "2 {'Nodeid': 'SN[3]', 'x': 54, 'y': 78, 'clusterNo': 15, 'CHid': 'CH(14)', 'CHdist': 25.238858928247925}\n",
            "3 {'Nodeid': 'SN[4]', 'x': 2, 'y': 5, 'clusterNo': 1, 'CHid': 'CH(0)', 'CHdist': 1.4142135623730951}\n",
            "4 {'Nodeid': 'SN[5]', 'x': 3, 'y': 40, 'clusterNo': 5, 'CHid': 'CH(4)', 'CHdist': 4.47213595499958}\n",
            "5 {'Nodeid': 'SN[6]', 'x': 59, 'y': 27, 'clusterNo': 7, 'CHid': 'CH(6)', 'CHdist': 17.0}\n",
            "6 {'Nodeid': 'SN[7]', 'x': 79, 'y': 67, 'clusterNo': 12, 'CHid': 'CH(11)', 'CHdist': 14.422205101855956}\n",
            "7 {'Nodeid': 'SN[8]', 'x': 39, 'y': 18, 'clusterNo': 2, 'CHid': 'CH(1)', 'CHdist': 4.123105625617661}\n",
            "8 {'Nodeid': 'SN[9]', 'x': 95, 'y': 15, 'clusterNo': 4, 'CHid': 'CH(3)', 'CHdist': 3.1622776601683795}\n",
            "9 {'Nodeid': 'SN[10]', 'x': 91, 'y': 59, 'clusterNo': 12, 'CHid': 'CH(11)', 'CHdist': 0.0}\n",
            "10 {'Nodeid': 'SN[11]', 'x': 9, 'y': 44, 'clusterNo': 5, 'CHid': 'CH(4)', 'CHdist': 6.324555320336759}\n",
            "11 {'Nodeid': 'SN[12]', 'x': 40, 'y': 14, 'clusterNo': 2, 'CHid': 'CH(1)', 'CHdist': 0.0}\n",
            "12 {'Nodeid': 'SN[13]', 'x': 57, 'y': 1, 'clusterNo': 3, 'CHid': 'CH(2)', 'CHdist': 13.601470508735444}\n",
            "13 {'Nodeid': 'SN[14]', 'x': 66, 'y': 67, 'clusterNo': 11, 'CHid': 'CH(10)', 'CHdist': 12.529964086141668}\n",
            "14 {'Nodeid': 'SN[15]', 'x': 30, 'y': 87, 'clusterNo': 14, 'CHid': 'CH(13)', 'CHdist': 13.92838827718412}\n",
            "15 {'Nodeid': 'SN[16]', 'x': 19, 'y': 88, 'clusterNo': 13, 'CHid': 'CH(12)', 'CHdist': 0.0}\n",
            "16 {'Nodeid': 'SN[17]', 'x': 73, 'y': 59, 'clusterNo': 11, 'CHid': 'CH(10)', 'CHdist': 3.1622776601683795}\n",
            "17 {'Nodeid': 'SN[18]', 'x': 62, 'y': 26, 'clusterNo': 7, 'CHid': 'CH(6)', 'CHdist': 19.4164878389476}\n",
            "18 {'Nodeid': 'SN[19]', 'x': 72, 'y': 91, 'clusterNo': 15, 'CHid': 'CH(14)', 'CHdist': 3.1622776601683795}\n",
            "19 {'Nodeid': 'SN[20]', 'x': 53, 'y': 99, 'clusterNo': 15, 'CHid': 'CH(14)', 'CHdist': 23.08679276123039}\n",
            "20 {'Nodeid': 'SN[21]', 'x': 79, 'y': 18, 'clusterNo': 4, 'CHid': 'CH(3)', 'CHdist': 13.601470508735444}\n",
            "21 {'Nodeid': 'SN[22]', 'x': 35, 'y': 100, 'clusterNo': 14, 'CHid': 'CH(13)', 'CHdist': 0.0}\n",
            "22 {'Nodeid': 'SN[23]', 'x': 48, 'y': 72, 'clusterNo': 10, 'CHid': 'CH(9)', 'CHdist': 21.2602916254693}\n",
            "23 {'Nodeid': 'SN[24]', 'x': 14, 'y': 7, 'clusterNo': 1, 'CHid': 'CH(0)', 'CHdist': 13.038404810405298}\n",
            "24 {'Nodeid': 'SN[25]', 'x': 97, 'y': 63, 'clusterNo': 12, 'CHid': 'CH(11)', 'CHdist': 7.211102550927978}\n",
            "25 {'Nodeid': 'SN[26]', 'x': 95, 'y': 7, 'clusterNo': 4, 'CHid': 'CH(3)', 'CHdist': 7.615773105863909}\n",
            "26 {'Nodeid': 'SN[27]', 'x': 75, 'y': 92, 'clusterNo': 15, 'CHid': 'CH(14)', 'CHdist': 0.0}\n",
            "27 {'Nodeid': 'SN[28]', 'x': 98, 'y': 64, 'clusterNo': 12, 'CHid': 'CH(11)', 'CHdist': 8.602325267042627}\n",
            "28 {'Nodeid': 'SN[29]', 'x': 38, 'y': 82, 'clusterNo': 14, 'CHid': 'CH(13)', 'CHdist': 18.24828759089466}\n",
            "29 {'Nodeid': 'SN[30]', 'x': 78, 'y': 91, 'clusterNo': 16, 'CHid': 'CH(15)', 'CHdist': 7.0710678118654755}\n",
            "30 {'Nodeid': 'SN[31]', 'x': 78, 'y': 60, 'clusterNo': 12, 'CHid': 'CH(11)', 'CHdist': 13.038404810405298}\n",
            "31 {'Nodeid': 'SN[32]', 'x': 97, 'y': 9, 'clusterNo': 4, 'CHid': 'CH(3)', 'CHdist': 7.0710678118654755}\n",
            "32 {'Nodeid': 'SN[33]', 'x': 86, 'y': 27, 'clusterNo': 8, 'CHid': 'CH(7)', 'CHdist': 18.027756377319946}\n",
            "33 {'Nodeid': 'SN[34]', 'x': 90, 'y': 62, 'clusterNo': 12, 'CHid': 'CH(11)', 'CHdist': 3.1622776601683795}\n",
            "34 {'Nodeid': 'SN[35]', 'x': 30, 'y': 1, 'clusterNo': 2, 'CHid': 'CH(1)', 'CHdist': 16.401219466856727}\n",
            "35 {'Nodeid': 'SN[36]', 'x': 70, 'y': 92, 'clusterNo': 15, 'CHid': 'CH(14)', 'CHdist': 5.0}\n",
            "36 {'Nodeid': 'SN[37]', 'x': 5, 'y': 25, 'clusterNo': 1, 'CHid': 'CH(0)', 'CHdist': 19.4164878389476}\n",
            "37 {'Nodeid': 'SN[38]', 'x': 31, 'y': 96, 'clusterNo': 14, 'CHid': 'CH(13)', 'CHdist': 5.656854249492381}\n",
            "38 {'Nodeid': 'SN[39]', 'x': 39, 'y': 70, 'clusterNo': 10, 'CHid': 'CH(9)', 'CHdist': 13.892443989449804}\n",
            "39 {'Nodeid': 'SN[40]', 'x': 62, 'y': 32, 'clusterNo': 7, 'CHid': 'CH(6)', 'CHdist': 14.866068747318506}\n",
            "40 {'Nodeid': 'SN[41]', 'x': 7, 'y': 38, 'clusterNo': 5, 'CHid': 'CH(4)', 'CHdist': 0.0}\n",
            "41 {'Nodeid': 'SN[42]', 'x': 83, 'y': 48, 'clusterNo': 8, 'CHid': 'CH(7)', 'CHdist': 14.317821063276353}\n",
            "42 {'Nodeid': 'SN[43]', 'x': 10, 'y': 88, 'clusterNo': 13, 'CHid': 'CH(12)', 'CHdist': 9.0}\n",
            "43 {'Nodeid': 'SN[44]', 'x': 51, 'y': 26, 'clusterNo': 7, 'CHid': 'CH(6)', 'CHdist': 16.0}\n",
            "44 {'Nodeid': 'SN[45]', 'x': 71, 'y': 70, 'clusterNo': 11, 'CHid': 'CH(10)', 'CHdist': 14.035668847618199}\n",
            "45 {'Nodeid': 'SN[46]', 'x': 66, 'y': 5, 'clusterNo': 3, 'CHid': 'CH(2)', 'CHdist': 7.0710678118654755}\n",
            "46 {'Nodeid': 'SN[47]', 'x': 96, 'y': 42, 'clusterNo': 8, 'CHid': 'CH(7)', 'CHdist': 0.0}\n",
            "47 {'Nodeid': 'SN[48]', 'x': 47, 'y': 59, 'clusterNo': 10, 'CHid': 'CH(9)', 'CHdist': 15.033296378372908}\n",
            "48 {'Nodeid': 'SN[49]', 'x': 99, 'y': 33, 'clusterNo': 8, 'CHid': 'CH(7)', 'CHdist': 9.486832980505138}\n",
            "49 {'Nodeid': 'SN[50]', 'x': 4, 'y': 64, 'clusterNo': 9, 'CHid': 'CH(8)', 'CHdist': 0.0}\n",
            "50 {'Nodeid': 'SN[51]', 'x': 49, 'y': 2, 'clusterNo': 2, 'CHid': 'CH(1)', 'CHdist': 15.0}\n",
            "51 {'Nodeid': 'SN[52]', 'x': 6, 'y': 14, 'clusterNo': 1, 'CHid': 'CH(0)', 'CHdist': 9.433981132056603}\n",
            "52 {'Nodeid': 'SN[53]', 'x': 58, 'y': 73, 'clusterNo': 11, 'CHid': 'CH(10)', 'CHdist': 22.02271554554524}\n",
            "53 {'Nodeid': 'SN[54]', 'x': 79, 'y': 84, 'clusterNo': 16, 'CHid': 'CH(15)', 'CHdist': 0.0}\n",
            "54 {'Nodeid': 'SN[55]', 'x': 53, 'y': 9, 'clusterNo': 3, 'CHid': 'CH(2)', 'CHdist': 12.36931687685298}\n",
            "55 {'Nodeid': 'SN[56]', 'x': 19, 'y': 44, 'clusterNo': 5, 'CHid': 'CH(4)', 'CHdist': 13.416407864998739}\n",
            "56 {'Nodeid': 'SN[57]', 'x': 86, 'y': 88, 'clusterNo': 16, 'CHid': 'CH(15)', 'CHdist': 8.06225774829855}\n",
            "57 {'Nodeid': 'SN[58]', 'x': 15, 'y': 78, 'clusterNo': 13, 'CHid': 'CH(12)', 'CHdist': 10.770329614269007}\n",
            "58 {'Nodeid': 'SN[59]', 'x': 6, 'y': 97, 'clusterNo': 13, 'CHid': 'CH(12)', 'CHdist': 15.811388300841896}\n",
            "59 {'Nodeid': 'SN[60]', 'x': 25, 'y': 41, 'clusterNo': 5, 'CHid': 'CH(4)', 'CHdist': 18.24828759089466}\n",
            "60 {'Nodeid': 'SN[61]', 'x': 65, 'y': 60, 'clusterNo': 11, 'CHid': 'CH(10)', 'CHdist': 8.06225774829855}\n",
            "61 {'Nodeid': 'SN[62]', 'x': 11, 'y': 55, 'clusterNo': 9, 'CHid': 'CH(8)', 'CHdist': 11.40175425099138}\n",
            "62 {'Nodeid': 'SN[63]', 'x': 42, 'y': 77, 'clusterNo': 14, 'CHid': 'CH(13)', 'CHdist': 24.041630560342615}\n",
            "63 {'Nodeid': 'SN[64]', 'x': 32, 'y': 58, 'clusterNo': 10, 'CHid': 'CH(9)', 'CHdist': 0.0}\n",
            "64 {'Nodeid': 'SN[65]', 'x': 22, 'y': 72, 'clusterNo': 9, 'CHid': 'CH(8)', 'CHdist': 19.697715603592208}\n",
            "65 {'Nodeid': 'SN[66]', 'x': 83, 'y': 40, 'clusterNo': 8, 'CHid': 'CH(7)', 'CHdist': 13.152946437965905}\n",
            "66 {'Nodeid': 'SN[67]', 'x': 28, 'y': 66, 'clusterNo': 10, 'CHid': 'CH(9)', 'CHdist': 8.94427190999916}\n",
            "67 {'Nodeid': 'SN[68]', 'x': 76, 'y': 35, 'clusterNo': 8, 'CHid': 'CH(7)', 'CHdist': 21.18962010041709}\n",
            "68 {'Nodeid': 'SN[69]', 'x': 72, 'y': 56, 'clusterNo': 11, 'CHid': 'CH(10)', 'CHdist': 0.0}\n",
            "69 {'Nodeid': 'SN[70]', 'x': 52, 'y': 46, 'clusterNo': 7, 'CHid': 'CH(6)', 'CHdist': 4.123105625617661}\n",
            "70 {'Nodeid': 'SN[71]', 'x': 74, 'y': 94, 'clusterNo': 15, 'CHid': 'CH(14)', 'CHdist': 2.23606797749979}\n",
            "71 {'Nodeid': 'SN[72]', 'x': 4, 'y': 25, 'clusterNo': 1, 'CHid': 'CH(0)', 'CHdist': 19.235384061671343}\n",
            "72 {'Nodeid': 'SN[73]', 'x': 15, 'y': 1, 'clusterNo': 1, 'CHid': 'CH(0)', 'CHdist': 14.866068747318506}\n",
            "73 {'Nodeid': 'SN[74]', 'x': 35, 'y': 86, 'clusterNo': 14, 'CHid': 'CH(13)', 'CHdist': 14.0}\n",
            "74 {'Nodeid': 'SN[75]', 'x': 12, 'y': 97, 'clusterNo': 13, 'CHid': 'CH(12)', 'CHdist': 11.40175425099138}\n",
            "75 {'Nodeid': 'SN[76]', 'x': 24, 'y': 4, 'clusterNo': 1, 'CHid': 'CH(0)', 'CHdist': 23.08679276123039}\n",
            "76 {'Nodeid': 'SN[77]', 'x': 59, 'y': 59, 'clusterNo': 11, 'CHid': 'CH(10)', 'CHdist': 13.341664064126334}\n",
            "77 {'Nodeid': 'SN[78]', 'x': 52, 'y': 77, 'clusterNo': 15, 'CHid': 'CH(14)', 'CHdist': 27.459060435491963}\n",
            "78 {'Nodeid': 'SN[79]', 'x': 16, 'y': 91, 'clusterNo': 13, 'CHid': 'CH(12)', 'CHdist': 4.242640687119285}\n",
            "79 {'Nodeid': 'SN[80]', 'x': 92, 'y': 14, 'clusterNo': 4, 'CHid': 'CH(3)', 'CHdist': 0.0}\n",
            "80 {'Nodeid': 'SN[81]', 'x': 88, 'y': 24, 'clusterNo': 4, 'CHid': 'CH(3)', 'CHdist': 10.770329614269007}\n",
            "81 {'Nodeid': 'SN[82]', 'x': 65, 'y': 12, 'clusterNo': 3, 'CHid': 'CH(2)', 'CHdist': 0.0}\n",
            "82 {'Nodeid': 'SN[83]', 'x': 38, 'y': 57, 'clusterNo': 10, 'CHid': 'CH(9)', 'CHdist': 6.082762530298219}\n",
            "83 {'Nodeid': 'SN[84]', 'x': 51, 'y': 42, 'clusterNo': 7, 'CHid': 'CH(6)', 'CHdist': 0.0}\n",
            "84 {'Nodeid': 'SN[85]', 'x': 35, 'y': 24, 'clusterNo': 2, 'CHid': 'CH(1)', 'CHdist': 11.180339887498949}\n",
            "85 {'Nodeid': 'SN[86]', 'x': 68, 'y': 100, 'clusterNo': 15, 'CHid': 'CH(14)', 'CHdist': 10.63014581273465}\n",
            "86 {'Nodeid': 'SN[87]', 'x': 65, 'y': 89, 'clusterNo': 15, 'CHid': 'CH(14)', 'CHdist': 10.44030650891055}\n",
            "87 {'Nodeid': 'SN[88]', 'x': 46, 'y': 36, 'clusterNo': 6, 'CHid': 'CH(5)', 'CHdist': 14.0}\n",
            "88 {'Nodeid': 'SN[89]', 'x': 69, 'y': 89, 'clusterNo': 15, 'CHid': 'CH(14)', 'CHdist': 6.708203932499369}\n",
            "89 {'Nodeid': 'SN[90]', 'x': 1, 'y': 6, 'clusterNo': 1, 'CHid': 'CH(0)', 'CHdist': 0.0}\n",
            "90 {'Nodeid': 'SN[91]', 'x': 95, 'y': 7, 'clusterNo': 4, 'CHid': 'CH(3)', 'CHdist': 7.615773105863909}\n",
            "91 {'Nodeid': 'SN[92]', 'x': 43, 'y': 20, 'clusterNo': 2, 'CHid': 'CH(1)', 'CHdist': 6.708203932499369}\n",
            "92 {'Nodeid': 'SN[93]', 'x': 67, 'y': 95, 'clusterNo': 15, 'CHid': 'CH(14)', 'CHdist': 8.54400374531753}\n",
            "93 {'Nodeid': 'SN[94]', 'x': 37, 'y': 24, 'clusterNo': 2, 'CHid': 'CH(1)', 'CHdist': 10.44030650891055}\n",
            "94 {'Nodeid': 'SN[95]', 'x': 53, 'y': 71, 'clusterNo': 11, 'CHid': 'CH(10)', 'CHdist': 24.20743687382041}\n",
            "95 {'Nodeid': 'SN[96]', 'x': 47, 'y': 43, 'clusterNo': 6, 'CHid': 'CH(5)', 'CHdist': 7.0710678118654755}\n",
            "96 {'Nodeid': 'SN[97]', 'x': 89, 'y': 4, 'clusterNo': 4, 'CHid': 'CH(3)', 'CHdist': 10.44030650891055}\n",
            "97 {'Nodeid': 'SN[98]', 'x': 46, 'y': 50, 'clusterNo': 6, 'CHid': 'CH(5)', 'CHdist': 0.0}\n",
            "98 {'Nodeid': 'SN[99]', 'x': 96, 'y': 37, 'clusterNo': 8, 'CHid': 'CH(7)', 'CHdist': 5.0}\n",
            "99 {'Nodeid': 'SN[100]', 'x': 27, 'y': 59, 'clusterNo': 10, 'CHid': 'CH(9)', 'CHdist': 5.0990195135927845}\n"
          ],
          "name": "stdout"
        }
      ]
    },
    {
      "cell_type": "code",
      "metadata": {
        "id": "2n6xgOc5EVde",
        "colab": {
          "base_uri": "https://localhost:8080/"
        },
        "outputId": "027aa7d0-acf9-4077-d8ac-e5ade75d373e"
      },
      "source": [
        "#Printing all the cluster head nodes\n",
        "for key,headNodes in CH.items():\n",
        "  print(key,headNodes)"
      ],
      "execution_count": 105,
      "outputs": [
        {
          "output_type": "stream",
          "text": [
            "0 {'NodeId': 'SN[89]', 'clusterNo': 1, 'DistSinkNode': 200.09247861926244}\n",
            "1 {'NodeId': 'SN[11]', 'clusterNo': 2, 'DistSinkNode': 186.26862323000083}\n",
            "2 {'NodeId': 'SN[81]', 'clusterNo': 3, 'DistSinkNode': 188.59745491389856}\n",
            "3 {'NodeId': 'SN[79]', 'clusterNo': 4, 'DistSinkNode': 190.68298298484845}\n",
            "4 {'NodeId': 'SN[40]', 'clusterNo': 5, 'DistSinkNode': 167.60966559241146}\n",
            "5 {'NodeId': 'SN[97]', 'clusterNo': 6, 'DistSinkNode': 150.05332385522155}\n",
            "6 {'NodeId': 'SN[83]', 'clusterNo': 7, 'DistSinkNode': 158.00316452527144}\n",
            "7 {'NodeId': 'SN[46]', 'clusterNo': 8, 'DistSinkNode': 164.5600194457937}\n",
            "8 {'NodeId': 'SN[49]', 'clusterNo': 9, 'DistSinkNode': 143.5687988387449}\n",
            "9 {'NodeId': 'SN[63]', 'clusterNo': 10, 'DistSinkNode': 143.13629868066312}\n",
            "10 {'NodeId': 'SN[68]', 'clusterNo': 11, 'DistSinkNode': 145.67086187704115}\n",
            "11 {'NodeId': 'SN[09]', 'clusterNo': 12, 'DistSinkNode': 146.84004903295286}\n",
            "12 {'NodeId': 'SN[15]', 'clusterNo': 13, 'DistSinkNode': 116.21101496846157}\n",
            "13 {'NodeId': 'SN[21]', 'clusterNo': 14, 'DistSinkNode': 101.11874208078342}\n",
            "14 {'NodeId': 'SN[26]', 'clusterNo': 15, 'DistSinkNode': 110.85576214162258}\n",
            "15 {'NodeId': 'SN[53]', 'clusterNo': 16, 'DistSinkNode': 119.57006314291216}\n"
          ],
          "name": "stdout"
        }
      ]
    }
  ]
}