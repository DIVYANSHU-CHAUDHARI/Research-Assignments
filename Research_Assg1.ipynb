{
  "nbformat": 4,
  "nbformat_minor": 0,
  "metadata": {
    "colab": {
      "name": "Research_Assg1.ipynb",
      "provenance": [],
      "collapsed_sections": [],
      "authorship_tag": "ABX9TyMtm1r6IEI9jt8c9VIfYBR9",
      "include_colab_link": true
    },
    "kernelspec": {
      "name": "python3",
      "display_name": "Python 3"
    },
    "language_info": {
      "name": "python"
    }
  },
  "cells": [
    {
      "cell_type": "markdown",
      "metadata": {
        "id": "view-in-github",
        "colab_type": "text"
      },
      "source": [
        "<a href=\"https://colab.research.google.com/github/DIVYANSHU-CHAUDHARI/Research-Assignments/blob/main/Research_Assg1.ipynb\" target=\"_parent\"><img src=\"https://colab.research.google.com/assets/colab-badge.svg\" alt=\"Open In Colab\"/></a>"
      ]
    },
    {
      "cell_type": "code",
      "metadata": {
        "id": "X87H5ec7TlmW"
      },
      "source": [
        "import random\n",
        "import math\n",
        "\n",
        "SN = {}\n",
        "CH = {}\n",
        "\n",
        "#Initializing all nodes\n",
        "\n",
        "for i in range(100):\n",
        "  SN[i] = {\n",
        "      'Nodeid':0,\n",
        "      'x':random.randint(1,100),\n",
        "      'y':random.randint(1,100),\n",
        "      'clusterNo' : 0,\n",
        "      'CHid' : 0,\n",
        "      'CHdist':0\n",
        "      }\n",
        "#Initializing head Nodes\n",
        "\n",
        "for i in range(16):\n",
        "  CH[i] = {\n",
        "      'NodeId':0,\n",
        "      'clusterNo':0,\n",
        "      'DistSinkNode':0\n",
        "  }"
      ],
      "execution_count": 3,
      "outputs": []
    },
    {
      "cell_type": "code",
      "metadata": {
        "id": "GsEYQHTNHJOe"
      },
      "source": [
        "for i in range(100):\n",
        "  SN[i]['Nodeid'] = 'SN[' + str(i+1) + ']' "
      ],
      "execution_count": 4,
      "outputs": []
    },
    {
      "cell_type": "code",
      "metadata": {
        "id": "iK_gPuPXYd0w"
      },
      "source": [
        "#Assigning cluster nos to all the nodes based on x and y coordinates\n",
        "for x in range(0,76,25):\n",
        "  for y in range(0,76,25):\n",
        "    for i in range(100):\n",
        "      if SN[i]['x']>x and SN[i]['x']<=x+25 and SN[i]['y']>y and SN[i]['y']<=y+25:\n",
        "        if y == 0:SN[i]['clusterNo'] = 1+x//25\n",
        "        elif y == 25:SN[i]['clusterNo'] = 5+x//25\n",
        "        elif y==50:SN[i]['clusterNo'] = 9+x//25\n",
        "        elif y == 75:SN[i]['clusterNo'] = 13+x//25\n",
        "        "
      ],
      "execution_count": 5,
      "outputs": []
    },
    {
      "cell_type": "code",
      "metadata": {
        "id": "_IKYyrZRwWpR"
      },
      "source": [
        "#Forming a clusters list of list with each list representing a cluster.\n",
        "#Each cluster list contains nodeid no. of its nodes\n",
        "clusterList = []\n",
        "tempList=[]\n",
        "for n in range(1,17):\n",
        "  tempList=[]\n",
        "  for i in range(0,100):\n",
        "    if SN[i]['clusterNo'] == n:\n",
        "      tempList.append(i)\n",
        "  clusterList.append(tempList)\n"
      ],
      "execution_count": 6,
      "outputs": []
    },
    {
      "cell_type": "code",
      "metadata": {
        "id": "RvEnmdTC1mj-"
      },
      "source": [
        "#Assigning cluster no. and Nodeid to each head node randomly from each cluster of the cluster List.\n",
        "for i in range(len(clusterList)):\n",
        "  CH[i]['clusterNo'] = i+1\n",
        "  CH[i]['NodeId'] = 'SN[' + str(random.choice(clusterList[i])).zfill(2) + ']'"
      ],
      "execution_count": 7,
      "outputs": []
    },
    {
      "cell_type": "code",
      "metadata": {
        "id": "FmzZhh_m6uSy"
      },
      "source": [
        "#Assigning CHId and calculating CHDist for every sensor node.\n",
        "for sn in range(100):\n",
        "  for hn in range(16):\n",
        "    if SN[sn]['clusterNo'] == CH[hn]['clusterNo']:\n",
        "      SN[sn]['CHid'] = 'CH(' + str(hn) + ')' \n",
        "      xs,xh= SN[sn]['x'],SN[int(CH[hn]['NodeId'][-3:-1])]['x']\n",
        "      ys,yh=SN[sn]['y'],SN[int(CH[hn]['NodeId'][-3:-1])]['y']\n",
        "      SN[sn]['CHdist'] = math.sqrt((xh - xs)**2 + (yh - ys)**2)"
      ],
      "execution_count": 8,
      "outputs": []
    },
    {
      "cell_type": "code",
      "metadata": {
        "id": "ZTTYwnzn5cqk",
        "colab": {
          "base_uri": "https://localhost:8080/"
        },
        "outputId": "49bc5997-8887-41a9-d130-b2b32749d10c"
      },
      "source": [
        "#Printing all the sensor nodes\n",
        "for key,allnodes in SN.items():\n",
        "  print(key,allnodes)"
      ],
      "execution_count": 11,
      "outputs": [
        {
          "output_type": "stream",
          "text": [
            "0 {'Nodeid': 'SN[1]', 'x': 19, 'y': 72, 'clusterNo': 9, 'CHid': 'CH(8)', 'CHdist': 13.341664064126334}\n",
            "1 {'Nodeid': 'SN[2]', 'x': 8, 'y': 17, 'clusterNo': 1, 'CHid': 'CH(0)', 'CHdist': 12.041594578792296}\n",
            "2 {'Nodeid': 'SN[3]', 'x': 6, 'y': 88, 'clusterNo': 13, 'CHid': 'CH(12)', 'CHdist': 13.45362404707371}\n",
            "3 {'Nodeid': 'SN[4]', 'x': 41, 'y': 78, 'clusterNo': 14, 'CHid': 'CH(13)', 'CHdist': 18.384776310850235}\n",
            "4 {'Nodeid': 'SN[5]', 'x': 26, 'y': 47, 'clusterNo': 6, 'CHid': 'CH(5)', 'CHdist': 9.486832980505138}\n",
            "5 {'Nodeid': 'SN[6]', 'x': 10, 'y': 15, 'clusterNo': 1, 'CHid': 'CH(0)', 'CHdist': 10.04987562112089}\n",
            "6 {'Nodeid': 'SN[7]', 'x': 62, 'y': 70, 'clusterNo': 11, 'CHid': 'CH(10)', 'CHdist': 12.727922061357855}\n",
            "7 {'Nodeid': 'SN[8]', 'x': 74, 'y': 66, 'clusterNo': 11, 'CHid': 'CH(10)', 'CHdist': 5.830951894845301}\n",
            "8 {'Nodeid': 'SN[9]', 'x': 79, 'y': 10, 'clusterNo': 4, 'CHid': 'CH(3)', 'CHdist': 22.47220505424423}\n",
            "9 {'Nodeid': 'SN[10]', 'x': 10, 'y': 94, 'clusterNo': 13, 'CHid': 'CH(12)', 'CHdist': 16.15549442140351}\n",
            "10 {'Nodeid': 'SN[11]', 'x': 25, 'y': 43, 'clusterNo': 5, 'CHid': 'CH(4)', 'CHdist': 25.0}\n",
            "11 {'Nodeid': 'SN[12]', 'x': 63, 'y': 37, 'clusterNo': 7, 'CHid': 'CH(6)', 'CHdist': 0.0}\n",
            "12 {'Nodeid': 'SN[13]', 'x': 71, 'y': 17, 'clusterNo': 3, 'CHid': 'CH(2)', 'CHdist': 15.524174696260024}\n",
            "13 {'Nodeid': 'SN[14]', 'x': 9, 'y': 63, 'clusterNo': 9, 'CHid': 'CH(8)', 'CHdist': 13.601470508735444}\n",
            "14 {'Nodeid': 'SN[15]', 'x': 82, 'y': 47, 'clusterNo': 8, 'CHid': 'CH(7)', 'CHdist': 18.110770276274835}\n",
            "15 {'Nodeid': 'SN[16]', 'x': 66, 'y': 95, 'clusterNo': 15, 'CHid': 'CH(14)', 'CHdist': 5.0}\n",
            "16 {'Nodeid': 'SN[17]', 'x': 67, 'y': 36, 'clusterNo': 7, 'CHid': 'CH(6)', 'CHdist': 4.123105625617661}\n",
            "17 {'Nodeid': 'SN[18]', 'x': 39, 'y': 45, 'clusterNo': 6, 'CHid': 'CH(5)', 'CHdist': 12.206555615733702}\n",
            "18 {'Nodeid': 'SN[19]', 'x': 9, 'y': 5, 'clusterNo': 1, 'CHid': 'CH(0)', 'CHdist': 0.0}\n",
            "19 {'Nodeid': 'SN[20]', 'x': 22, 'y': 59, 'clusterNo': 9, 'CHid': 'CH(8)', 'CHdist': 0.0}\n",
            "20 {'Nodeid': 'SN[21]', 'x': 27, 'y': 16, 'clusterNo': 2, 'CHid': 'CH(1)', 'CHdist': 9.055385138137417}\n",
            "21 {'Nodeid': 'SN[22]', 'x': 32, 'y': 60, 'clusterNo': 10, 'CHid': 'CH(9)', 'CHdist': 0.0}\n",
            "22 {'Nodeid': 'SN[23]', 'x': 61, 'y': 29, 'clusterNo': 7, 'CHid': 'CH(6)', 'CHdist': 8.246211251235321}\n",
            "23 {'Nodeid': 'SN[24]', 'x': 1, 'y': 50, 'clusterNo': 5, 'CHid': 'CH(4)', 'CHdist': 0.0}\n",
            "24 {'Nodeid': 'SN[25]', 'x': 8, 'y': 18, 'clusterNo': 1, 'CHid': 'CH(0)', 'CHdist': 13.038404810405298}\n",
            "25 {'Nodeid': 'SN[26]', 'x': 30, 'y': 87, 'clusterNo': 14, 'CHid': 'CH(13)', 'CHdist': 19.697715603592208}\n",
            "26 {'Nodeid': 'SN[27]', 'x': 65, 'y': 69, 'clusterNo': 11, 'CHid': 'CH(10)', 'CHdist': 10.0}\n",
            "27 {'Nodeid': 'SN[28]', 'x': 48, 'y': 95, 'clusterNo': 14, 'CHid': 'CH(13)', 'CHdist': 0.0}\n",
            "28 {'Nodeid': 'SN[29]', 'x': 4, 'y': 40, 'clusterNo': 5, 'CHid': 'CH(4)', 'CHdist': 10.44030650891055}\n",
            "29 {'Nodeid': 'SN[30]', 'x': 81, 'y': 16, 'clusterNo': 4, 'CHid': 'CH(3)', 'CHdist': 23.600847442411894}\n",
            "30 {'Nodeid': 'SN[31]', 'x': 54, 'y': 39, 'clusterNo': 7, 'CHid': 'CH(6)', 'CHdist': 9.219544457292887}\n",
            "31 {'Nodeid': 'SN[32]', 'x': 53, 'y': 93, 'clusterNo': 15, 'CHid': 'CH(14)', 'CHdist': 9.055385138137417}\n",
            "32 {'Nodeid': 'SN[33]', 'x': 4, 'y': 72, 'clusterNo': 9, 'CHid': 'CH(8)', 'CHdist': 22.20360331117452}\n",
            "33 {'Nodeid': 'SN[34]', 'x': 35, 'y': 50, 'clusterNo': 6, 'CHid': 'CH(5)', 'CHdist': 13.416407864998739}\n",
            "34 {'Nodeid': 'SN[35]', 'x': 57, 'y': 38, 'clusterNo': 7, 'CHid': 'CH(6)', 'CHdist': 6.082762530298219}\n",
            "35 {'Nodeid': 'SN[36]', 'x': 33, 'y': 74, 'clusterNo': 10, 'CHid': 'CH(9)', 'CHdist': 14.035668847618199}\n",
            "36 {'Nodeid': 'SN[37]', 'x': 47, 'y': 13, 'clusterNo': 2, 'CHid': 'CH(1)', 'CHdist': 21.840329667841555}\n",
            "37 {'Nodeid': 'SN[38]', 'x': 40, 'y': 65, 'clusterNo': 10, 'CHid': 'CH(9)', 'CHdist': 9.433981132056603}\n",
            "38 {'Nodeid': 'SN[39]', 'x': 60, 'y': 15, 'clusterNo': 3, 'CHid': 'CH(2)', 'CHdist': 19.849433241279208}\n",
            "39 {'Nodeid': 'SN[40]', 'x': 40, 'y': 14, 'clusterNo': 2, 'CHid': 'CH(1)', 'CHdist': 15.652475842498529}\n",
            "40 {'Nodeid': 'SN[41]', 'x': 30, 'y': 74, 'clusterNo': 10, 'CHid': 'CH(9)', 'CHdist': 14.142135623730951}\n",
            "41 {'Nodeid': 'SN[42]', 'x': 53, 'y': 48, 'clusterNo': 7, 'CHid': 'CH(6)', 'CHdist': 14.866068747318506}\n",
            "42 {'Nodeid': 'SN[43]', 'x': 28, 'y': 74, 'clusterNo': 10, 'CHid': 'CH(9)', 'CHdist': 14.560219778561036}\n",
            "43 {'Nodeid': 'SN[44]', 'x': 75, 'y': 2, 'clusterNo': 3, 'CHid': 'CH(2)', 'CHdist': 0.0}\n",
            "44 {'Nodeid': 'SN[45]', 'x': 19, 'y': 17, 'clusterNo': 1, 'CHid': 'CH(0)', 'CHdist': 15.620499351813308}\n",
            "45 {'Nodeid': 'SN[46]', 'x': 8, 'y': 99, 'clusterNo': 13, 'CHid': 'CH(12)', 'CHdist': 21.540659228538015}\n",
            "46 {'Nodeid': 'SN[47]', 'x': 26, 'y': 7, 'clusterNo': 2, 'CHid': 'CH(1)', 'CHdist': 0.0}\n",
            "47 {'Nodeid': 'SN[48]', 'x': 49, 'y': 55, 'clusterNo': 10, 'CHid': 'CH(9)', 'CHdist': 17.72004514666935}\n",
            "48 {'Nodeid': 'SN[49]', 'x': 49, 'y': 7, 'clusterNo': 2, 'CHid': 'CH(1)', 'CHdist': 23.0}\n",
            "49 {'Nodeid': 'SN[50]', 'x': 88, 'y': 74, 'clusterNo': 12, 'CHid': 'CH(11)', 'CHdist': 15.033296378372908}\n",
            "50 {'Nodeid': 'SN[51]', 'x': 84, 'y': 23, 'clusterNo': 4, 'CHid': 'CH(3)', 'CHdist': 26.40075756488817}\n",
            "51 {'Nodeid': 'SN[52]', 'x': 87, 'y': 15, 'clusterNo': 4, 'CHid': 'CH(3)', 'CHdist': 18.384776310850235}\n",
            "52 {'Nodeid': 'SN[53]', 'x': 14, 'y': 38, 'clusterNo': 5, 'CHid': 'CH(4)', 'CHdist': 17.69180601295413}\n",
            "53 {'Nodeid': 'SN[54]', 'x': 71, 'y': 84, 'clusterNo': 15, 'CHid': 'CH(14)', 'CHdist': 12.041594578792296}\n",
            "54 {'Nodeid': 'SN[55]', 'x': 2, 'y': 8, 'clusterNo': 1, 'CHid': 'CH(0)', 'CHdist': 7.615773105863909}\n",
            "55 {'Nodeid': 'SN[56]', 'x': 79, 'y': 12, 'clusterNo': 4, 'CHid': 'CH(3)', 'CHdist': 23.259406699226016}\n",
            "56 {'Nodeid': 'SN[57]', 'x': 84, 'y': 35, 'clusterNo': 8, 'CHid': 'CH(7)', 'CHdist': 21.2602916254693}\n",
            "57 {'Nodeid': 'SN[58]', 'x': 62, 'y': 92, 'clusterNo': 15, 'CHid': 'CH(14)', 'CHdist': 0.0}\n",
            "58 {'Nodeid': 'SN[59]', 'x': 2, 'y': 68, 'clusterNo': 9, 'CHid': 'CH(8)', 'CHdist': 21.93171219946131}\n",
            "59 {'Nodeid': 'SN[60]', 'x': 85, 'y': 76, 'clusterNo': 16, 'CHid': 'CH(15)', 'CHdist': 24.186773244895647}\n",
            "60 {'Nodeid': 'SN[61]', 'x': 81, 'y': 75, 'clusterNo': 12, 'CHid': 'CH(11)', 'CHdist': 17.88854381999832}\n",
            "61 {'Nodeid': 'SN[62]', 'x': 89, 'y': 59, 'clusterNo': 12, 'CHid': 'CH(11)', 'CHdist': 0.0}\n",
            "62 {'Nodeid': 'SN[63]', 'x': 90, 'y': 14, 'clusterNo': 4, 'CHid': 'CH(3)', 'CHdist': 15.620499351813308}\n",
            "63 {'Nodeid': 'SN[64]', 'x': 70, 'y': 11, 'clusterNo': 3, 'CHid': 'CH(2)', 'CHdist': 10.295630140987}\n",
            "64 {'Nodeid': 'SN[65]', 'x': 82, 'y': 100, 'clusterNo': 16, 'CHid': 'CH(15)', 'CHdist': 0.0}\n",
            "65 {'Nodeid': 'SN[66]', 'x': 77, 'y': 33, 'clusterNo': 8, 'CHid': 'CH(7)', 'CHdist': 28.0178514522438}\n",
            "66 {'Nodeid': 'SN[67]', 'x': 10, 'y': 48, 'clusterNo': 5, 'CHid': 'CH(4)', 'CHdist': 9.219544457292887}\n",
            "67 {'Nodeid': 'SN[68]', 'x': 98, 'y': 10, 'clusterNo': 4, 'CHid': 'CH(3)', 'CHdist': 8.246211251235321}\n",
            "68 {'Nodeid': 'SN[69]', 'x': 66, 'y': 38, 'clusterNo': 7, 'CHid': 'CH(6)', 'CHdist': 3.1622776601683795}\n",
            "69 {'Nodeid': 'SN[70]', 'x': 71, 'y': 61, 'clusterNo': 11, 'CHid': 'CH(10)', 'CHdist': 0.0}\n",
            "70 {'Nodeid': 'SN[71]', 'x': 30, 'y': 57, 'clusterNo': 10, 'CHid': 'CH(9)', 'CHdist': 3.605551275463989}\n",
            "71 {'Nodeid': 'SN[72]', 'x': 18, 'y': 63, 'clusterNo': 9, 'CHid': 'CH(8)', 'CHdist': 5.656854249492381}\n",
            "72 {'Nodeid': 'SN[73]', 'x': 56, 'y': 79, 'clusterNo': 15, 'CHid': 'CH(14)', 'CHdist': 14.317821063276353}\n",
            "73 {'Nodeid': 'SN[74]', 'x': 58, 'y': 33, 'clusterNo': 7, 'CHid': 'CH(6)', 'CHdist': 6.4031242374328485}\n",
            "74 {'Nodeid': 'SN[75]', 'x': 27, 'y': 17, 'clusterNo': 2, 'CHid': 'CH(1)', 'CHdist': 10.04987562112089}\n",
            "75 {'Nodeid': 'SN[76]', 'x': 65, 'y': 84, 'clusterNo': 15, 'CHid': 'CH(14)', 'CHdist': 8.54400374531753}\n",
            "76 {'Nodeid': 'SN[77]', 'x': 30, 'y': 1, 'clusterNo': 2, 'CHid': 'CH(1)', 'CHdist': 7.211102550927978}\n",
            "77 {'Nodeid': 'SN[78]', 'x': 10, 'y': 15, 'clusterNo': 1, 'CHid': 'CH(0)', 'CHdist': 10.04987562112089}\n",
            "78 {'Nodeid': 'SN[79]', 'x': 100, 'y': 2, 'clusterNo': 4, 'CHid': 'CH(3)', 'CHdist': 0.0}\n",
            "79 {'Nodeid': 'SN[80]', 'x': 60, 'y': 55, 'clusterNo': 11, 'CHid': 'CH(10)', 'CHdist': 12.529964086141668}\n",
            "80 {'Nodeid': 'SN[81]', 'x': 88, 'y': 42, 'clusterNo': 8, 'CHid': 'CH(7)', 'CHdist': 13.892443989449804}\n",
            "81 {'Nodeid': 'SN[82]', 'x': 18, 'y': 57, 'clusterNo': 9, 'CHid': 'CH(8)', 'CHdist': 4.47213595499958}\n",
            "82 {'Nodeid': 'SN[83]', 'x': 66, 'y': 81, 'clusterNo': 15, 'CHid': 'CH(14)', 'CHdist': 11.704699910719626}\n",
            "83 {'Nodeid': 'SN[84]', 'x': 100, 'y': 49, 'clusterNo': 8, 'CHid': 'CH(7)', 'CHdist': 0.0}\n",
            "84 {'Nodeid': 'SN[85]', 'x': 35, 'y': 41, 'clusterNo': 6, 'CHid': 'CH(5)', 'CHdist': 6.708203932499369}\n",
            "85 {'Nodeid': 'SN[86]', 'x': 19, 'y': 60, 'clusterNo': 9, 'CHid': 'CH(8)', 'CHdist': 3.1622776601683795}\n",
            "86 {'Nodeid': 'SN[87]', 'x': 48, 'y': 74, 'clusterNo': 10, 'CHid': 'CH(9)', 'CHdist': 21.2602916254693}\n",
            "87 {'Nodeid': 'SN[88]', 'x': 16, 'y': 79, 'clusterNo': 13, 'CHid': 'CH(12)', 'CHdist': 0.0}\n",
            "88 {'Nodeid': 'SN[89]', 'x': 83, 'y': 85, 'clusterNo': 16, 'CHid': 'CH(15)', 'CHdist': 15.033296378372908}\n",
            "89 {'Nodeid': 'SN[90]', 'x': 14, 'y': 76, 'clusterNo': 13, 'CHid': 'CH(12)', 'CHdist': 3.605551275463989}\n",
            "90 {'Nodeid': 'SN[91]', 'x': 71, 'y': 60, 'clusterNo': 11, 'CHid': 'CH(10)', 'CHdist': 1.0}\n",
            "91 {'Nodeid': 'SN[92]', 'x': 62, 'y': 76, 'clusterNo': 15, 'CHid': 'CH(14)', 'CHdist': 16.0}\n",
            "92 {'Nodeid': 'SN[93]', 'x': 55, 'y': 69, 'clusterNo': 11, 'CHid': 'CH(10)', 'CHdist': 17.88854381999832}\n",
            "93 {'Nodeid': 'SN[94]', 'x': 73, 'y': 49, 'clusterNo': 7, 'CHid': 'CH(6)', 'CHdist': 15.620499351813308}\n",
            "94 {'Nodeid': 'SN[95]', 'x': 78, 'y': 75, 'clusterNo': 12, 'CHid': 'CH(11)', 'CHdist': 19.4164878389476}\n",
            "95 {'Nodeid': 'SN[96]', 'x': 61, 'y': 40, 'clusterNo': 7, 'CHid': 'CH(6)', 'CHdist': 3.605551275463989}\n",
            "96 {'Nodeid': 'SN[97]', 'x': 13, 'y': 98, 'clusterNo': 13, 'CHid': 'CH(12)', 'CHdist': 19.235384061671343}\n",
            "97 {'Nodeid': 'SN[98]', 'x': 7, 'y': 41, 'clusterNo': 5, 'CHid': 'CH(4)', 'CHdist': 10.816653826391969}\n",
            "98 {'Nodeid': 'SN[99]', 'x': 65, 'y': 20, 'clusterNo': 3, 'CHid': 'CH(2)', 'CHdist': 20.591260281974}\n",
            "99 {'Nodeid': 'SN[100]', 'x': 29, 'y': 38, 'clusterNo': 6, 'CHid': 'CH(5)', 'CHdist': 0.0}\n"
          ],
          "name": "stdout"
        }
      ]
    },
    {
      "cell_type": "code",
      "metadata": {
        "id": "2n6xgOc5EVde",
        "colab": {
          "base_uri": "https://localhost:8080/"
        },
        "outputId": "77cccb8a-21b2-4e81-f5b9-a3e6cc8cdc9c"
      },
      "source": [
        "#Printing all the cluster head nodes\n",
        "for key,headNodes in CH.items():\n",
        "  print(key,headNodes)"
      ],
      "execution_count": 12,
      "outputs": [
        {
          "output_type": "stream",
          "text": [
            "0 {'NodeId': 'SN[18]', 'clusterNo': 1, 'DistSinkNode': 0}\n",
            "1 {'NodeId': 'SN[46]', 'clusterNo': 2, 'DistSinkNode': 0}\n",
            "2 {'NodeId': 'SN[43]', 'clusterNo': 3, 'DistSinkNode': 0}\n",
            "3 {'NodeId': 'SN[78]', 'clusterNo': 4, 'DistSinkNode': 0}\n",
            "4 {'NodeId': 'SN[23]', 'clusterNo': 5, 'DistSinkNode': 0}\n",
            "5 {'NodeId': 'SN[99]', 'clusterNo': 6, 'DistSinkNode': 0}\n",
            "6 {'NodeId': 'SN[11]', 'clusterNo': 7, 'DistSinkNode': 0}\n",
            "7 {'NodeId': 'SN[83]', 'clusterNo': 8, 'DistSinkNode': 0}\n",
            "8 {'NodeId': 'SN[19]', 'clusterNo': 9, 'DistSinkNode': 0}\n",
            "9 {'NodeId': 'SN[21]', 'clusterNo': 10, 'DistSinkNode': 0}\n",
            "10 {'NodeId': 'SN[69]', 'clusterNo': 11, 'DistSinkNode': 0}\n",
            "11 {'NodeId': 'SN[61]', 'clusterNo': 12, 'DistSinkNode': 0}\n",
            "12 {'NodeId': 'SN[87]', 'clusterNo': 13, 'DistSinkNode': 0}\n",
            "13 {'NodeId': 'SN[27]', 'clusterNo': 14, 'DistSinkNode': 0}\n",
            "14 {'NodeId': 'SN[57]', 'clusterNo': 15, 'DistSinkNode': 0}\n",
            "15 {'NodeId': 'SN[64]', 'clusterNo': 16, 'DistSinkNode': 0}\n"
          ],
          "name": "stdout"
        }
      ]
    }
  ]
}